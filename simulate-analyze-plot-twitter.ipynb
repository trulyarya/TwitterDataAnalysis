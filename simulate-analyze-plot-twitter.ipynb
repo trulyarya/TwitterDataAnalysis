{
 "cells": [
  {
   "cell_type": "markdown",
   "id": "5b1389d1-8515-49d5-be40-d97ca0d401c5",
   "metadata": {},
   "source": [
    "# Clean & Analyze Social Media"
   ]
  },
  {
   "cell_type": "markdown",
   "id": "77f550d0-f8fb-4131-bcb6-77947a38d09f",
   "metadata": {},
   "source": [
    "**Introduction**\n",
    "\n",
    "Social media has become a ubiquitous part of modern life, with platforms such as Instagram, Twitter, and Facebook serving as essential communication channels. Social media data sets are vast and complex, making analysis a challenging task for businesses and researchers alike. In this project, we explore a simulated social media, for example Tweets, data set to understand trends in likes across different categories.\n",
    "\n",
    "**Project Scope**\n",
    "\n",
    "The objective of this project is to analyze tweets (or other social media data) and gain insights into user engagement. We will explore the data set using visualization techniques to understand the distribution of likes across different categories. Finally, we will analyze the data to draw conclusions about the most popular categories and the overall engagement on the platform."
   ]
  },
  {
   "cell_type": "markdown",
   "id": "263330ab-ed8f-4a6e-b2f8-fa81d5c92ae5",
   "metadata": {},
   "source": [
    "## Task 1: Required libraries & their purpose\n",
    "\n",
    "To do the analysis, we'll gather and import the following libraries:\n",
    "\n",
    "* `pandas` for creating the dataframe, grouping and analysis\n",
    "* `numpy` for forming random reproducible numbers from a range and choosing values from a list with different probabilities\n",
    "* `Matplotlib.pyplot` for displaying graphs and tweaking the plots\n",
    "* `seaborn` for plotting the data\n",
    "\n",
    "**Resources:**\n",
    "* _https://seaborn.pydata.org/installing.html#quickstart_"
   ]
  },
  {
   "cell_type": "code",
   "execution_count": 1,
   "id": "62e238ba-d2d3-434f-94a0-6b2a8bb3109a",
   "metadata": {},
   "outputs": [],
   "source": [
    "import pandas as pd\n",
    "import numpy as np\n",
    "import matplotlib.pyplot as plt\n",
    "import seaborn as sns"
   ]
  },
  {
   "cell_type": "markdown",
   "id": "7e24d8ad-bca4-466c-a41c-022d188cbcf2",
   "metadata": {},
   "source": [
    "## Task 2: Generate random but realistic Twitter data\n",
    "\n",
    "We'll now generate some random tweet data to analyze.\n",
    "\n",
    "Let's use `pandas`' `date_range()` method to choose a pseudo-random date within a range, the `numpy` module’s `choice` to create a choice from a list with varying probabilities, and `numpy`’s `random.lognormal` to create random numbers that are distributed similar to a log-normal distribution (skewed, right long tail, similar to the number of likes social media posts get).\n",
    "\n",
    "First of all we'll need to define a list of categories for the social media experiment. The list includes the following categories:\n",
    "\n",
    "* _Food_\n",
    "* _Travel_\n",
    "* _Fashion_\n",
    "* _Fitness_\n",
    "* _Music_\n",
    "* _Culture_\n",
    "* _Family_\n",
    "* _Health_\n",
    "\n",
    "Next, we'll generate a Python dictionary filled with random data (values) and the following fields (keys):\n",
    "\n",
    "* `Date`: The date on which the tweet was created\n",
    "* `Category`: The main subject (category) of the tweet\n",
    "* `Likes`: The number of likes the tweet has received\n",
    "\n",
    "The data needs to align, so the _Date_ dictionary-entry should be _n_ periods long, The _Category_ should be a _list_ of random choices _n_ entries long (8 possible choices), and the _Likes_ category should be random integers in the range _0_ to _5000_ (representing number of likes for each single tweet) also with size equal to _n_.\n",
    "\n",
    "**Resources:**\n",
    "* _https://pandas.pydata.org/pandas-docs/stable/reference/api/pandas.date_range.html_\n",
    "* _https://www.w3schools.com/python/ref_random_choice.asp_\n",
    "* _https://numpy.org/doc/stable/reference/random/generated/numpy.random.randint.html_"
   ]
  },
  {
   "cell_type": "markdown",
   "id": "b723be41-8471-46b6-a783-f54cbe2c691d",
   "metadata": {},
   "source": [
    "### Number of tweets to analyze\n",
    "Let's simulate and analyze a gigangtic 1 million tweets (n = 1000000)!"
   ]
  },
  {
   "cell_type": "code",
   "execution_count": 2,
   "id": "d1538798-76db-4090-bbb7-dd92ea1dc43a",
   "metadata": {},
   "outputs": [],
   "source": [
    "no_of_tweets = 10**6"
   ]
  },
  {
   "cell_type": "markdown",
   "id": "b0ae4f40-ef51-4bf8-b140-76295c1da2cc",
   "metadata": {},
   "source": [
    "In order to set the \"_seed_\" of the random generator in `numpy` to a set number so we can reproduce the random integers later, it is best practice to use the `np.random.default_rng(seed)` method. Then we can use the `.integers(low, high, size)` method, in order to produce the same exact random numbers in the future when we re-run the code."
   ]
  },
  {
   "cell_type": "markdown",
   "id": "cd3963e7-af5c-44e7-96fe-9355498080ea",
   "metadata": {},
   "source": [
    "### Number & distribution of likes per tweet\n",
    "**`likes`:** We need to generate random integers between 0 adn 5000 (number of likes) with a heavy skew and long-tail to the right (log-normal):"
   ]
  },
  {
   "cell_type": "code",
   "execution_count": 3,
   "id": "eee438f2-18b6-45c3-8bae-31ba1c75524a",
   "metadata": {},
   "outputs": [
    {
     "name": "stdout",
     "output_type": "stream",
     "text": [
      "The length of `likes`: 1000000\n"
     ]
    },
    {
     "data": {
      "text/plain": [
       "array([ 43, 149, 248, ...,  99, 208, 124])"
      ]
     },
     "execution_count": 3,
     "metadata": {},
     "output_type": "execute_result"
    }
   ],
   "source": [
    "# For reproducibility, so that we get the same (random) numbers when running the code later\n",
    "rng = np.random.default_rng(seed=1234)\n",
    "\n",
    "# Chosen mean (mu) and standard deviation (sigma) of the (log-normal) distribution\n",
    "mu, sigma = 15, 0.75 \n",
    "\n",
    "# Generate a random log-normal distribution:\n",
    "raw_likes = rng.lognormal(mu, sigma, no_of_tweets) #gives a reproducible numpy array with 1,000,000 random numbers\n",
    "\n",
    "# Scaling and making sure the values (# of likes received for each tweet (or data row)) is between 0 and 5,000:\n",
    "scaled_likes = raw_likes / raw_likes.max() * 5000\n",
    "\n",
    "# Finally rounding the numbers and converting to integers to ensure they are integers within the 0 - 5000 range:\n",
    "likes = np.round(scaled_likes).astype(int)\n",
    "\n",
    "print(f\"The length of `likes`: {len(likes)}\")\n",
    "likes"
   ]
  },
  {
   "cell_type": "markdown",
   "id": "466266c8-0649-473f-8b4d-1b3ce8119129",
   "metadata": {},
   "source": [
    "### Dates of the tweets\n",
    "**`date`**: We need 1 million date entries between January 1st and December 31st 2023. To do so, we'll simply use `pandas`' `pd.date_range()` funcion:"
   ]
  },
  {
   "cell_type": "code",
   "execution_count": 4,
   "id": "90e3daa4-2458-4145-9559-cc8911ad1eba",
   "metadata": {},
   "outputs": [],
   "source": [
    "date = pd.date_range(start='2023-01-01', end='2023-12-31', periods=no_of_tweets)"
   ]
  },
  {
   "cell_type": "markdown",
   "id": "4b31e61a-5e02-4e5b-b4fd-7d3f019eae35",
   "metadata": {},
   "source": [
    "### Category of each tweet\n",
    "**`category`**: We need 1 million random category types (from the `categories` list). For this, we'll set up different probabilities (`p`) for each of these category types. The reason is, we do not want to have the same probability across all category types. This is also not the case in a real-world scenario. Since we need a lot of entries, it's best to use a `numpy.random.choice()` array instead of `random.choice()`, that creates a slow `list`:"
   ]
  },
  {
   "cell_type": "code",
   "execution_count": 5,
   "id": "ba95308e-338c-4f9e-b406-30c70bd9b3bd",
   "metadata": {},
   "outputs": [],
   "source": [
    "categories = ['Food', 'Travel', 'Fashion', 'Fitness', 'Music', 'Culture', 'Family', 'Health']\n",
    "\n",
    "#we again use the numpy `rng` random variable above that we set a seed for to reproduce the values later too:\n",
    "category = rng.choice(categories, size=no_of_tweets, p=[0.05, 0.25, 0.15, 0.25, 0.1, 0.025, 0.1, 0.075])  # sum(p) = 100%"
   ]
  },
  {
   "cell_type": "markdown",
   "id": "cb388d16-d57a-4625-beea-f53dab20122c",
   "metadata": {},
   "source": [
    "### Wrapping Twitter data in a dictionary"
   ]
  },
  {
   "cell_type": "code",
   "execution_count": 6,
   "id": "30a31a5d-c7cd-44c0-9138-74176f679fdd",
   "metadata": {},
   "outputs": [],
   "source": [
    "twitter_data = {'Date': date, 'Category': category, 'Likes': likes}"
   ]
  },
  {
   "cell_type": "markdown",
   "id": "37677b99-145a-4ddc-80b3-7a8a98e1f39b",
   "metadata": {},
   "source": [
    "## Task 3: Loading & exploring the data\n",
    "\n",
    "In the next step we'll load the randomly generated data into a `pandas`' dataframe (`pd.DataFrame()`). Afterwards we'll explore the the dataframe information (`df.info()`) and the dataframe description (`df.describe()`). Finally, we'll check the count of each _Category_ element.\n",
    "\n",
    "**Resources:**\n",
    "* _https://pandas.pydata.org/pandas-docs/stable/reference/api/pandas.DataFrame.value_counts.html_\n",
    "* _https://pandas.pydata.org/pandas-docs/stable/reference/api/pandas.DataFrame.describe.html_\n",
    "* _https://pandas.pydata.org/pandas-docs/stable/reference/api/pandas.DataFrame.info.html_"
   ]
  },
  {
   "cell_type": "code",
   "execution_count": 7,
   "id": "b0ef1edc-b5c0-427d-889e-3db1b8ec2be8",
   "metadata": {},
   "outputs": [
    {
     "data": {
      "text/html": [
       "<div>\n",
       "<style scoped>\n",
       "    .dataframe tbody tr th:only-of-type {\n",
       "        vertical-align: middle;\n",
       "    }\n",
       "\n",
       "    .dataframe tbody tr th {\n",
       "        vertical-align: top;\n",
       "    }\n",
       "\n",
       "    .dataframe thead th {\n",
       "        text-align: right;\n",
       "    }\n",
       "</style>\n",
       "<table border=\"1\" class=\"dataframe\">\n",
       "  <thead>\n",
       "    <tr style=\"text-align: right;\">\n",
       "      <th></th>\n",
       "      <th>Date</th>\n",
       "      <th>Category</th>\n",
       "      <th>Likes</th>\n",
       "    </tr>\n",
       "  </thead>\n",
       "  <tbody>\n",
       "    <tr>\n",
       "      <th>0</th>\n",
       "      <td>2023-01-01 00:00:00.000000000</td>\n",
       "      <td>Culture</td>\n",
       "      <td>43</td>\n",
       "    </tr>\n",
       "    <tr>\n",
       "      <th>1</th>\n",
       "      <td>2023-01-01 00:00:31.449631449</td>\n",
       "      <td>Family</td>\n",
       "      <td>149</td>\n",
       "    </tr>\n",
       "    <tr>\n",
       "      <th>2</th>\n",
       "      <td>2023-01-01 00:01:02.899262899</td>\n",
       "      <td>Music</td>\n",
       "      <td>248</td>\n",
       "    </tr>\n",
       "    <tr>\n",
       "      <th>3</th>\n",
       "      <td>2023-01-01 00:01:34.348894348</td>\n",
       "      <td>Fitness</td>\n",
       "      <td>159</td>\n",
       "    </tr>\n",
       "    <tr>\n",
       "      <th>4</th>\n",
       "      <td>2023-01-01 00:02:05.798525798</td>\n",
       "      <td>Family</td>\n",
       "      <td>272</td>\n",
       "    </tr>\n",
       "    <tr>\n",
       "      <th>...</th>\n",
       "      <td>...</td>\n",
       "      <td>...</td>\n",
       "      <td>...</td>\n",
       "    </tr>\n",
       "    <tr>\n",
       "      <th>999995</th>\n",
       "      <td>2023-12-30 23:57:54.201474204</td>\n",
       "      <td>Family</td>\n",
       "      <td>194</td>\n",
       "    </tr>\n",
       "    <tr>\n",
       "      <th>999996</th>\n",
       "      <td>2023-12-30 23:58:25.651105652</td>\n",
       "      <td>Music</td>\n",
       "      <td>298</td>\n",
       "    </tr>\n",
       "    <tr>\n",
       "      <th>999997</th>\n",
       "      <td>2023-12-30 23:58:57.100737100</td>\n",
       "      <td>Fitness</td>\n",
       "      <td>99</td>\n",
       "    </tr>\n",
       "    <tr>\n",
       "      <th>999998</th>\n",
       "      <td>2023-12-30 23:59:28.550368552</td>\n",
       "      <td>Family</td>\n",
       "      <td>208</td>\n",
       "    </tr>\n",
       "    <tr>\n",
       "      <th>999999</th>\n",
       "      <td>2023-12-31 00:00:00.000000000</td>\n",
       "      <td>Fashion</td>\n",
       "      <td>124</td>\n",
       "    </tr>\n",
       "  </tbody>\n",
       "</table>\n",
       "<p>1000000 rows × 3 columns</p>\n",
       "</div>"
      ],
      "text/plain": [
       "                                Date Category  Likes\n",
       "0      2023-01-01 00:00:00.000000000  Culture     43\n",
       "1      2023-01-01 00:00:31.449631449   Family    149\n",
       "2      2023-01-01 00:01:02.899262899    Music    248\n",
       "3      2023-01-01 00:01:34.348894348  Fitness    159\n",
       "4      2023-01-01 00:02:05.798525798   Family    272\n",
       "...                              ...      ...    ...\n",
       "999995 2023-12-30 23:57:54.201474204   Family    194\n",
       "999996 2023-12-30 23:58:25.651105652    Music    298\n",
       "999997 2023-12-30 23:58:57.100737100  Fitness     99\n",
       "999998 2023-12-30 23:59:28.550368552   Family    208\n",
       "999999 2023-12-31 00:00:00.000000000  Fashion    124\n",
       "\n",
       "[1000000 rows x 3 columns]"
      ]
     },
     "execution_count": 7,
     "metadata": {},
     "output_type": "execute_result"
    }
   ],
   "source": [
    "df = pd.DataFrame(data=twitter_data)\n",
    "df #dataframe with a million rows!"
   ]
  },
  {
   "cell_type": "code",
   "execution_count": 8,
   "id": "f8b44c08-2e6e-4c85-a84b-1ed08dcd98e5",
   "metadata": {},
   "outputs": [
    {
     "name": "stdout",
     "output_type": "stream",
     "text": [
      "<class 'pandas.core.frame.DataFrame'>\n",
      "RangeIndex: 1000000 entries, 0 to 999999\n",
      "Data columns (total 3 columns):\n",
      " #   Column    Non-Null Count    Dtype         \n",
      "---  ------    --------------    -----         \n",
      " 0   Date      1000000 non-null  datetime64[ns]\n",
      " 1   Category  1000000 non-null  object        \n",
      " 2   Likes     1000000 non-null  int64         \n",
      "dtypes: datetime64[ns](1), int64(1), object(1)\n",
      "memory usage: 22.9+ MB\n"
     ]
    }
   ],
   "source": [
    "df.info()"
   ]
  },
  {
   "cell_type": "code",
   "execution_count": 9,
   "id": "3a3fc9e5-3834-4fa1-a829-f96684d1340c",
   "metadata": {},
   "outputs": [
    {
     "data": {
      "text/html": [
       "<div>\n",
       "<style scoped>\n",
       "    .dataframe tbody tr th:only-of-type {\n",
       "        vertical-align: middle;\n",
       "    }\n",
       "\n",
       "    .dataframe tbody tr th {\n",
       "        vertical-align: top;\n",
       "    }\n",
       "\n",
       "    .dataframe thead th {\n",
       "        text-align: right;\n",
       "    }\n",
       "</style>\n",
       "<table border=\"1\" class=\"dataframe\">\n",
       "  <thead>\n",
       "    <tr style=\"text-align: right;\">\n",
       "      <th></th>\n",
       "      <th>Likes</th>\n",
       "    </tr>\n",
       "  </thead>\n",
       "  <tbody>\n",
       "    <tr>\n",
       "      <th>count</th>\n",
       "      <td>1000000.000000</td>\n",
       "    </tr>\n",
       "    <tr>\n",
       "      <th>mean</th>\n",
       "      <td>188.297463</td>\n",
       "    </tr>\n",
       "    <tr>\n",
       "      <th>std</th>\n",
       "      <td>162.876118</td>\n",
       "    </tr>\n",
       "    <tr>\n",
       "      <th>min</th>\n",
       "      <td>4.000000</td>\n",
       "    </tr>\n",
       "    <tr>\n",
       "      <th>25%</th>\n",
       "      <td>86.000000</td>\n",
       "    </tr>\n",
       "    <tr>\n",
       "      <th>50%</th>\n",
       "      <td>142.000000</td>\n",
       "    </tr>\n",
       "    <tr>\n",
       "      <th>75%</th>\n",
       "      <td>236.000000</td>\n",
       "    </tr>\n",
       "    <tr>\n",
       "      <th>max</th>\n",
       "      <td>5000.000000</td>\n",
       "    </tr>\n",
       "  </tbody>\n",
       "</table>\n",
       "</div>"
      ],
      "text/plain": [
       "                Likes\n",
       "count  1000000.000000\n",
       "mean       188.297463\n",
       "std        162.876118\n",
       "min          4.000000\n",
       "25%         86.000000\n",
       "50%        142.000000\n",
       "75%        236.000000\n",
       "max       5000.000000"
      ]
     },
     "execution_count": 9,
     "metadata": {},
     "output_type": "execute_result"
    }
   ],
   "source": [
    "df.describe(include=np.number)"
   ]
  },
  {
   "cell_type": "code",
   "execution_count": 10,
   "id": "cb8030da-414a-495c-a3ac-cda966c711d7",
   "metadata": {},
   "outputs": [
    {
     "data": {
      "text/plain": [
       "array(['Culture', 'Family', 'Music', 'Fitness', 'Travel', 'Fashion',\n",
       "       'Health', 'Food'], dtype=object)"
      ]
     },
     "execution_count": 10,
     "metadata": {},
     "output_type": "execute_result"
    }
   ],
   "source": [
    "df.Category.unique()"
   ]
  },
  {
   "cell_type": "markdown",
   "id": "5ffa1bed-3927-4b83-9984-23ce5a6744cc",
   "metadata": {},
   "source": [
    "## Task 4: Cleaning the data\n",
    "\n",
    "We'll use `pandas`' built-in functionality to clean the data. First, we'll remove all the null data using the appropriate dataframe drop method. Next, we'd want to also remove duplicate data from the dataframe, with the help of a dataframe method.\n",
    "\n",
    "To appropriately display the date information, we'll convert the date column to a datetime format using the `pd.to_datetime()` function from Pandas, which is basically a \"conversion method\".\n",
    "\n",
    "Finally, we'll convert the dataframe _Likes_ data (column) to an integer.\n",
    "\n",
    "                              \n",
    "**Resources:**\n",
    "* _https://www.w3schools.com/python/pandas/pandas_cleaning.asp_\n",
    "* _https://pandas.pydata.org/pandas-docs/stable/reference/api/pandas.DataFrame.astype.html_"
   ]
  },
  {
   "cell_type": "markdown",
   "id": "2f74a3e4-482b-47c7-938f-63f6276db8b3",
   "metadata": {},
   "source": [
    "The `Date` field contains redundant _time_ information. Let's remove that:"
   ]
  },
  {
   "cell_type": "code",
   "execution_count": 11,
   "id": "03048fe4-487c-4798-adb1-1a866af5ce85",
   "metadata": {},
   "outputs": [
    {
     "name": "stdout",
     "output_type": "stream",
     "text": [
      "Data type for the Date column is unchanged: datetime64[ns]\n"
     ]
    },
    {
     "data": {
      "text/html": [
       "<div>\n",
       "<style scoped>\n",
       "    .dataframe tbody tr th:only-of-type {\n",
       "        vertical-align: middle;\n",
       "    }\n",
       "\n",
       "    .dataframe tbody tr th {\n",
       "        vertical-align: top;\n",
       "    }\n",
       "\n",
       "    .dataframe thead th {\n",
       "        text-align: right;\n",
       "    }\n",
       "</style>\n",
       "<table border=\"1\" class=\"dataframe\">\n",
       "  <thead>\n",
       "    <tr style=\"text-align: right;\">\n",
       "      <th></th>\n",
       "      <th>Date</th>\n",
       "      <th>Category</th>\n",
       "      <th>Likes</th>\n",
       "    </tr>\n",
       "  </thead>\n",
       "  <tbody>\n",
       "    <tr>\n",
       "      <th>0</th>\n",
       "      <td>2023-01-01</td>\n",
       "      <td>Culture</td>\n",
       "      <td>43</td>\n",
       "    </tr>\n",
       "    <tr>\n",
       "      <th>1</th>\n",
       "      <td>2023-01-01</td>\n",
       "      <td>Family</td>\n",
       "      <td>149</td>\n",
       "    </tr>\n",
       "    <tr>\n",
       "      <th>2</th>\n",
       "      <td>2023-01-01</td>\n",
       "      <td>Music</td>\n",
       "      <td>248</td>\n",
       "    </tr>\n",
       "    <tr>\n",
       "      <th>3</th>\n",
       "      <td>2023-01-01</td>\n",
       "      <td>Fitness</td>\n",
       "      <td>159</td>\n",
       "    </tr>\n",
       "    <tr>\n",
       "      <th>4</th>\n",
       "      <td>2023-01-01</td>\n",
       "      <td>Family</td>\n",
       "      <td>272</td>\n",
       "    </tr>\n",
       "    <tr>\n",
       "      <th>...</th>\n",
       "      <td>...</td>\n",
       "      <td>...</td>\n",
       "      <td>...</td>\n",
       "    </tr>\n",
       "    <tr>\n",
       "      <th>999995</th>\n",
       "      <td>2023-12-30</td>\n",
       "      <td>Family</td>\n",
       "      <td>194</td>\n",
       "    </tr>\n",
       "    <tr>\n",
       "      <th>999996</th>\n",
       "      <td>2023-12-30</td>\n",
       "      <td>Music</td>\n",
       "      <td>298</td>\n",
       "    </tr>\n",
       "    <tr>\n",
       "      <th>999997</th>\n",
       "      <td>2023-12-30</td>\n",
       "      <td>Fitness</td>\n",
       "      <td>99</td>\n",
       "    </tr>\n",
       "    <tr>\n",
       "      <th>999998</th>\n",
       "      <td>2023-12-30</td>\n",
       "      <td>Family</td>\n",
       "      <td>208</td>\n",
       "    </tr>\n",
       "    <tr>\n",
       "      <th>999999</th>\n",
       "      <td>2023-12-31</td>\n",
       "      <td>Fashion</td>\n",
       "      <td>124</td>\n",
       "    </tr>\n",
       "  </tbody>\n",
       "</table>\n",
       "<p>1000000 rows × 3 columns</p>\n",
       "</div>"
      ],
      "text/plain": [
       "             Date Category  Likes\n",
       "0      2023-01-01  Culture     43\n",
       "1      2023-01-01   Family    149\n",
       "2      2023-01-01    Music    248\n",
       "3      2023-01-01  Fitness    159\n",
       "4      2023-01-01   Family    272\n",
       "...           ...      ...    ...\n",
       "999995 2023-12-30   Family    194\n",
       "999996 2023-12-30    Music    298\n",
       "999997 2023-12-30  Fitness     99\n",
       "999998 2023-12-30   Family    208\n",
       "999999 2023-12-31  Fashion    124\n",
       "\n",
       "[1000000 rows x 3 columns]"
      ]
     },
     "execution_count": 11,
     "metadata": {},
     "output_type": "execute_result"
    }
   ],
   "source": [
    "#we use normalize to remove the time portion AND keep Dtype as datetime!\n",
    "df['Date'] = pd.to_datetime(df['Date']).dt.normalize()\n",
    "\n",
    "print('Data type for the Date column is unchanged:', df.Date.dtype) #\n",
    "df#.head()"
   ]
  },
  {
   "cell_type": "markdown",
   "id": "76699ee9-6e6e-496b-8f0b-e068c5899de1",
   "metadata": {},
   "source": [
    "## Task 5: Visualizing & analyzing the data\n",
    "\n",
    "First we visually observe relationships among the data using charts and graphs, then we'll perform statistics on it to analyze the data (e.g. compute the average).\n",
    "\n",
    "We'll visualize the data using the `seaborn` module in a histogram plot of the _Likes_. This is done by the method \n",
    "`sns.histplot()`, passing in the `df` field _Likes_ (`df['Likes']`).\n",
    "\n",
    "Afterwards, let's create a boxplot with the _x_ axis as _Category_, and the _y_ axis as _Likes_.\n",
    "\n",
    "We'll then go ahead and perform some statistics on the data. First, we'll investiage the _mean_ of the _Likes_ catregory. Next, we'll use the `df.groupby()` method to print out the mean of each Category _Likes_.\n",
    "\n",
    "**Resources:**\n",
    "* _https://seaborn.pydata.org/generated/seaborn.boxplot.html_\n",
    "* _https://seaborn.pydata.org/generated/seaborn.histplot.html_\n",
    "* _https://pandas.pydata.org/docs/reference/api/pandas.core.groupby.DataFrameGroupBy.mean.html_"
   ]
  },
  {
   "cell_type": "code",
   "execution_count": 12,
   "id": "4f6e31da-cf3b-4800-a901-d40a07a311c9",
   "metadata": {},
   "outputs": [
    {
     "data": {
      "text/plain": [
       "<Axes: title={'center': 'Histogram of frequency of number of likes received'}, xlabel='Number of likes per tweet', ylabel='Frequency (number) of tweets with the given number of likes'>"
      ]
     },
     "execution_count": 12,
     "metadata": {},
     "output_type": "execute_result"
    },
    {
     "data": {
      "image/png": "[encoded data removed]",
      "text/plain": [
       "<Figure size 1200x800 with 1 Axes>"
      ]
     },
     "metadata": {},
     "output_type": "display_data"
    }
   ],
   "source": [
    "plt.figure(figsize=(12,8))\n",
    "plt.title('Histogram of frequency of number of likes received')\n",
    "plt.xlabel('Number of likes per tweet')\n",
    "plt.ylabel('Frequency (number) of tweets with the given number of likes')\n",
    "\n",
    "sns.histplot(data=df.Likes, kde=True, bins=120, color='red', alpha=0.4)\n",
    "\n",
    "#we can clearly see the log-normal heavily skewed distribution (since we generated the data this way), since on social media, most posts/tweets get only a handful of likes, while very few go viral."
   ]
  },
  {
   "cell_type": "markdown",
   "id": "df400aa9-5caa-40ff-8d91-0f275712208f",
   "metadata": {},
   "source": [
    "We can see below in the boxplot, that the number of likes per tweet is more or less similar across all categories. The _Travel_ category has higher number of outliers that are away from the mean and the only category with a tweet of 5000 likes."
   ]
  },
  {
   "cell_type": "code",
   "execution_count": 13,
   "id": "5a449279-2864-4629-b6e3-990bbee8e415",
   "metadata": {},
   "outputs": [
    {
     "data": {
      "text/plain": [
       "<Axes: xlabel='Category', ylabel='Number of likes per tweet'>"
      ]
     },
     "execution_count": 13,
     "metadata": {},
     "output_type": "execute_result"
    },
    {
     "data": {
      "image/png": "[encoded data removed]",
      "text/plain": [
       "<Figure size 700x800 with 1 Axes>"
      ]
     },
     "metadata": {},
     "output_type": "display_data"
    }
   ],
   "source": [
    "plt.figure(figsize=(7, 8))\n",
    "plt.ylabel('Number of likes per tweet')\n",
    "\n",
    "sns.boxplot(x=df.Category, y=df.Likes, color='red')"
   ]
  },
  {
   "cell_type": "markdown",
   "id": "4365c47b-63cc-4800-a38f-a3d877ee25ec",
   "metadata": {},
   "source": [
    "* Highest number of likes for a tweet was **5000**, posted on Aug. 8, 2023 with the _Travel_ topic.\n",
    "* Lowest number of likes for a tweet was **4**, that was tweeted on 30th April, 2023 from the _Fitness_ category."
   ]
  },
  {
   "cell_type": "code",
   "execution_count": 14,
   "id": "f5398287-4a16-4feb-9bdd-e075cb981783",
   "metadata": {},
   "outputs": [
    {
     "data": {
      "text/html": [
       "<div>\n",
       "<style scoped>\n",
       "    .dataframe tbody tr th:only-of-type {\n",
       "        vertical-align: middle;\n",
       "    }\n",
       "\n",
       "    .dataframe tbody tr th {\n",
       "        vertical-align: top;\n",
       "    }\n",
       "\n",
       "    .dataframe thead th {\n",
       "        text-align: right;\n",
       "    }\n",
       "</style>\n",
       "<table border=\"1\" class=\"dataframe\">\n",
       "  <thead>\n",
       "    <tr style=\"text-align: right;\">\n",
       "      <th></th>\n",
       "      <th>Date</th>\n",
       "      <th>Category</th>\n",
       "      <th>Likes</th>\n",
       "    </tr>\n",
       "  </thead>\n",
       "  <tbody>\n",
       "    <tr>\n",
       "      <th>593675</th>\n",
       "      <td>2023-08-05</td>\n",
       "      <td>Fitness</td>\n",
       "      <td>4</td>\n",
       "    </tr>\n",
       "  </tbody>\n",
       "</table>\n",
       "</div>"
      ],
      "text/plain": [
       "             Date Category  Likes\n",
       "593675 2023-08-05  Fitness      4"
      ]
     },
     "metadata": {},
     "output_type": "display_data"
    },
    {
     "data": {
      "text/html": [
       "<div>\n",
       "<style scoped>\n",
       "    .dataframe tbody tr th:only-of-type {\n",
       "        vertical-align: middle;\n",
       "    }\n",
       "\n",
       "    .dataframe tbody tr th {\n",
       "        vertical-align: top;\n",
       "    }\n",
       "\n",
       "    .dataframe thead th {\n",
       "        text-align: right;\n",
       "    }\n",
       "</style>\n",
       "<table border=\"1\" class=\"dataframe\">\n",
       "  <thead>\n",
       "    <tr style=\"text-align: right;\">\n",
       "      <th></th>\n",
       "      <th>Date</th>\n",
       "      <th>Category</th>\n",
       "      <th>Likes</th>\n",
       "    </tr>\n",
       "  </thead>\n",
       "  <tbody>\n",
       "    <tr>\n",
       "      <th>326968</th>\n",
       "      <td>2023-04-30</td>\n",
       "      <td>Travel</td>\n",
       "      <td>5000</td>\n",
       "    </tr>\n",
       "  </tbody>\n",
       "</table>\n",
       "</div>"
      ],
      "text/plain": [
       "             Date Category  Likes\n",
       "326968 2023-04-30   Travel   5000"
      ]
     },
     "metadata": {},
     "output_type": "display_data"
    }
   ],
   "source": [
    "display(df[df.Likes == min(df.Likes)])\n",
    "display(df[df.Likes == max(df.Likes)])"
   ]
  },
  {
   "cell_type": "markdown",
   "id": "9170237e-2e19-48c0-8d46-68699192eec2",
   "metadata": {},
   "source": [
    "Average number of likes per tweet is similar across all categories:"
   ]
  },
  {
   "cell_type": "code",
   "execution_count": 15,
   "id": "bf5cdd33-d9e9-4787-9f9c-9140a2a99642",
   "metadata": {},
   "outputs": [
    {
     "data": {
      "text/html": [
       "<div>\n",
       "<style scoped>\n",
       "    .dataframe tbody tr th:only-of-type {\n",
       "        vertical-align: middle;\n",
       "    }\n",
       "\n",
       "    .dataframe tbody tr th {\n",
       "        vertical-align: top;\n",
       "    }\n",
       "\n",
       "    .dataframe thead th {\n",
       "        text-align: right;\n",
       "    }\n",
       "</style>\n",
       "<table border=\"1\" class=\"dataframe\">\n",
       "  <thead>\n",
       "    <tr style=\"text-align: right;\">\n",
       "      <th></th>\n",
       "      <th>Average no. of likes/tweet</th>\n",
       "    </tr>\n",
       "    <tr>\n",
       "      <th>Category</th>\n",
       "      <th></th>\n",
       "    </tr>\n",
       "  </thead>\n",
       "  <tbody>\n",
       "    <tr>\n",
       "      <th>Food</th>\n",
       "      <td>189</td>\n",
       "    </tr>\n",
       "    <tr>\n",
       "      <th>Family</th>\n",
       "      <td>188</td>\n",
       "    </tr>\n",
       "    <tr>\n",
       "      <th>Fashion</th>\n",
       "      <td>188</td>\n",
       "    </tr>\n",
       "    <tr>\n",
       "      <th>Fitness</th>\n",
       "      <td>188</td>\n",
       "    </tr>\n",
       "    <tr>\n",
       "      <th>Health</th>\n",
       "      <td>188</td>\n",
       "    </tr>\n",
       "    <tr>\n",
       "      <th>Culture</th>\n",
       "      <td>187</td>\n",
       "    </tr>\n",
       "    <tr>\n",
       "      <th>Music</th>\n",
       "      <td>187</td>\n",
       "    </tr>\n",
       "    <tr>\n",
       "      <th>Travel</th>\n",
       "      <td>187</td>\n",
       "    </tr>\n",
       "  </tbody>\n",
       "</table>\n",
       "</div>"
      ],
      "text/plain": [
       "          Average no. of likes/tweet\n",
       "Category                            \n",
       "Food                             189\n",
       "Family                           188\n",
       "Fashion                          188\n",
       "Fitness                          188\n",
       "Health                           188\n",
       "Culture                          187\n",
       "Music                            187\n",
       "Travel                           187"
      ]
     },
     "execution_count": 15,
     "metadata": {},
     "output_type": "execute_result"
    }
   ],
   "source": [
    "# Average number of likes received per tweet in each category:\n",
    "ave_likes_by_cat = df[['Likes','Category']].groupby('Category').mean()\n",
    "ave_likes_by_cat = ave_likes_by_cat.astype('int32').sort_values(by='Likes', ascending=False) #round the means\n",
    "ave_likes_by_cat.rename(columns={'Likes': 'Average no. of likes/tweet'}, inplace=True) #rename the column label\n",
    "\n",
    "ave_likes_by_cat"
   ]
  },
  {
   "cell_type": "markdown",
   "id": "28f6f808-22d9-4170-9f38-5a7dce873fc1",
   "metadata": {},
   "source": [
    "Number of tweets posted is also the same across the year:"
   ]
  },
  {
   "cell_type": "code",
   "execution_count": 16,
   "id": "836cf6bf-a000-472d-9501-077554638082",
   "metadata": {},
   "outputs": [
    {
     "data": {
      "text/html": [
       "<div>\n",
       "<style scoped>\n",
       "    .dataframe tbody tr th:only-of-type {\n",
       "        vertical-align: middle;\n",
       "    }\n",
       "\n",
       "    .dataframe tbody tr th {\n",
       "        vertical-align: top;\n",
       "    }\n",
       "\n",
       "    .dataframe thead th {\n",
       "        text-align: right;\n",
       "    }\n",
       "</style>\n",
       "<table border=\"1\" class=\"dataframe\">\n",
       "  <thead>\n",
       "    <tr style=\"text-align: right;\">\n",
       "      <th>Month</th>\n",
       "      <th>1</th>\n",
       "      <th>2</th>\n",
       "      <th>3</th>\n",
       "      <th>4</th>\n",
       "      <th>5</th>\n",
       "      <th>6</th>\n",
       "      <th>7</th>\n",
       "      <th>8</th>\n",
       "      <th>9</th>\n",
       "      <th>10</th>\n",
       "      <th>11</th>\n",
       "      <th>12</th>\n",
       "    </tr>\n",
       "  </thead>\n",
       "  <tbody>\n",
       "    <tr>\n",
       "      <th>No. of tweets/month</th>\n",
       "      <td>85165</td>\n",
       "      <td>76923</td>\n",
       "      <td>85165</td>\n",
       "      <td>82417</td>\n",
       "      <td>85165</td>\n",
       "      <td>82418</td>\n",
       "      <td>85164</td>\n",
       "      <td>85165</td>\n",
       "      <td>82418</td>\n",
       "      <td>85164</td>\n",
       "      <td>82418</td>\n",
       "      <td>82418</td>\n",
       "    </tr>\n",
       "  </tbody>\n",
       "</table>\n",
       "</div>"
      ],
      "text/plain": [
       "Month                   1      2      3      4      5      6      7      8   \\\n",
       "No. of tweets/month  85165  76923  85165  82417  85165  82418  85164  85165   \n",
       "\n",
       "Month                   9      10     11     12  \n",
       "No. of tweets/month  82418  85164  82418  82418  "
      ]
     },
     "execution_count": 16,
     "metadata": {},
     "output_type": "execute_result"
    }
   ],
   "source": [
    "# Number of tweets per month\n",
    "no_tweet_by_mont = df[['Likes']].groupby(df['Date'].dt.month).count()\n",
    "\n",
    "no_tweet_by_mont.rename(columns={'Likes': 'No. of tweets/month'}, inplace=True) #renaming the column name\n",
    "no_tweet_by_mont.rename_axis('Month', inplace=True) #renaming the name of the \"group-by\" column (Date) which is now the index\n",
    "\n",
    "no_tweet_by_mont.T"
   ]
  },
  {
   "cell_type": "markdown",
   "id": "d840cbfd-54d4-4105-a512-b1e9b6363432",
   "metadata": {},
   "source": [
    "However, there are huge discrepancies across the number of tweets for each category:"
   ]
  },
  {
   "cell_type": "code",
   "execution_count": 17,
   "id": "0d295107-a49e-4d91-bc6c-dccadfb4292a",
   "metadata": {},
   "outputs": [
    {
     "data": {
      "text/html": [
       "<div>\n",
       "<style scoped>\n",
       "    .dataframe tbody tr th:only-of-type {\n",
       "        vertical-align: middle;\n",
       "    }\n",
       "\n",
       "    .dataframe tbody tr th {\n",
       "        vertical-align: top;\n",
       "    }\n",
       "\n",
       "    .dataframe thead th {\n",
       "        text-align: right;\n",
       "    }\n",
       "</style>\n",
       "<table border=\"1\" class=\"dataframe\">\n",
       "  <thead>\n",
       "    <tr style=\"text-align: right;\">\n",
       "      <th></th>\n",
       "      <th>Category</th>\n",
       "      <th>No. of tweets/category</th>\n",
       "    </tr>\n",
       "  </thead>\n",
       "  <tbody>\n",
       "    <tr>\n",
       "      <th>0</th>\n",
       "      <td>Travel</td>\n",
       "      <td>249694</td>\n",
       "    </tr>\n",
       "    <tr>\n",
       "      <th>1</th>\n",
       "      <td>Fitness</td>\n",
       "      <td>249426</td>\n",
       "    </tr>\n",
       "    <tr>\n",
       "      <th>2</th>\n",
       "      <td>Fashion</td>\n",
       "      <td>150021</td>\n",
       "    </tr>\n",
       "    <tr>\n",
       "      <th>3</th>\n",
       "      <td>Family</td>\n",
       "      <td>100715</td>\n",
       "    </tr>\n",
       "    <tr>\n",
       "      <th>4</th>\n",
       "      <td>Music</td>\n",
       "      <td>99879</td>\n",
       "    </tr>\n",
       "    <tr>\n",
       "      <th>5</th>\n",
       "      <td>Health</td>\n",
       "      <td>75290</td>\n",
       "    </tr>\n",
       "    <tr>\n",
       "      <th>6</th>\n",
       "      <td>Food</td>\n",
       "      <td>50037</td>\n",
       "    </tr>\n",
       "    <tr>\n",
       "      <th>7</th>\n",
       "      <td>Culture</td>\n",
       "      <td>24938</td>\n",
       "    </tr>\n",
       "  </tbody>\n",
       "</table>\n",
       "</div>"
      ],
      "text/plain": [
       "  Category  No. of tweets/category\n",
       "0   Travel                  249694\n",
       "1  Fitness                  249426\n",
       "2  Fashion                  150021\n",
       "3   Family                  100715\n",
       "4    Music                   99879\n",
       "5   Health                   75290\n",
       "6     Food                   50037\n",
       "7  Culture                   24938"
      ]
     },
     "execution_count": 17,
     "metadata": {},
     "output_type": "execute_result"
    }
   ],
   "source": [
    "# Number of tweets per category\n",
    "no_tweet_by_cat = df.groupby('Category')[['Likes']].count()\n",
    "\n",
    "no_tweet_by_cat.sort_values(by='Likes', ascending=False, inplace=True)\n",
    "no_tweet_by_cat.rename(columns={'Likes': 'No. of tweets/category'}, inplace=True)\n",
    "no_tweet_by_cat.reset_index(inplace=True)\n",
    "\n",
    "no_tweet_by_cat"
   ]
  },
  {
   "cell_type": "markdown",
   "id": "c77c019f-98ee-4681-bae0-a54fb87c7236",
   "metadata": {},
   "source": [
    "We can plot this discrepancy below:"
   ]
  },
  {
   "cell_type": "code",
   "execution_count": 18,
   "id": "1285583d-f40c-4ca5-973b-9a0644ee3888",
   "metadata": {},
   "outputs": [
    {
     "name": "stdout",
     "output_type": "stream",
     "text": [
      "[<BarContainer object of 8 artists>]\n"
     ]
    },
    {
     "data": {
      "image/png": "[encoded data removed]",
      "text/plain": [
       "<Figure size 800x600 with 1 Axes>"
      ]
     },
     "metadata": {},
     "output_type": "display_data"
    }
   ],
   "source": [
    "plt.figure(figsize=(8,6))\n",
    "\n",
    "ax = sns.barplot(data=no_tweet_by_cat,\n",
    "                 x='Category',\n",
    "                 y='No. of tweets/category')\n",
    "\n",
    "# The following line is for demonstration purposes that shows a list that contains 8 \"artists\", in our case 8 different type of Category. Under the hood, Matplotlib creates a BarContainer object that contains all the bars (represented as 8 Rectangle objects) of the plot. This container is then added to the ax.containers list:\n",
    "print(ax.containers)\n",
    "\n",
    "# This lines adds the y-axis values on top of each bar. It uses the bar objects from the containers above\n",
    "ax.bar_label(ax.containers[0])\n",
    "\n",
    "plt.show()"
   ]
  },
  {
   "cell_type": "markdown",
   "id": "5020b884-a98e-42f5-b52a-a2b08ae60a0e",
   "metadata": {},
   "source": [
    "## Task 6: Conclusions\n",
    "\n",
    "Let's conclude and summarize the process and key findings.\n",
    "\n",
    "---\n",
    "\n",
    "_**Tips for the final step of the project:**_\n",
    "\n",
    "_This is your opportunity to impress your prospective employer with your critical thinking and problem-solving skills:_\n",
    "\n",
    "* _Discuss the process you followed and share your struggles and how you overcame them. What do you think sets your portfolio project apart from those of other candidates?_\n",
    "  \n",
    "* _You may even want to offer ideas for improving the design for future business endeavors._\n",
    "\n",
    "* _Prepare the project artifacts for uploading into your portfolio. You should include:_\n",
    "    1. _An image file of your Graphs and Statistics with the fields and data displayed._\n",
    "    2. _Excerpts from your code explaining the purpose of the code._\n",
    "    3. _Any improvements/changes you would make to the application._\n",
    "\n",
    "---"
   ]
  },
  {
   "cell_type": "code",
   "execution_count": 24,
   "id": "988bf21c-2936-4674-aee9-47acd2d48356",
   "metadata": {},
   "outputs": [],
   "source": [
    "twitter_sentiment_df = pd.read_csv('/Users/arya/Documents/My Downloads/training.1600000.processed.noemoticon.csv',\n",
    "                                   encoding='ISO-8859-1',\n",
    "                                   names=[\"target\", \"ids\", \"date\", \"flag\", \"user\", \"text\"])"
   ]
  },
  {
   "cell_type": "code",
   "execution_count": 33,
   "id": "dc87d22d-dc13-45cf-8e95-e9eebd881212",
   "metadata": {},
   "outputs": [
    {
     "data": {
      "text/html": [
       "<div>\n",
       "<style scoped>\n",
       "    .dataframe tbody tr th:only-of-type {\n",
       "        vertical-align: middle;\n",
       "    }\n",
       "\n",
       "    .dataframe tbody tr th {\n",
       "        vertical-align: top;\n",
       "    }\n",
       "\n",
       "    .dataframe thead th {\n",
       "        text-align: right;\n",
       "    }\n",
       "</style>\n",
       "<table border=\"1\" class=\"dataframe\">\n",
       "  <thead>\n",
       "    <tr style=\"text-align: right;\">\n",
       "      <th></th>\n",
       "      <th>target</th>\n",
       "      <th>ids</th>\n",
       "      <th>date</th>\n",
       "      <th>flag</th>\n",
       "      <th>user</th>\n",
       "      <th>text</th>\n",
       "    </tr>\n",
       "  </thead>\n",
       "  <tbody>\n",
       "    <tr>\n",
       "      <th>0</th>\n",
       "      <td>0</td>\n",
       "      <td>1467810369</td>\n",
       "      <td>Mon Apr 06 22:19:45 PDT 2009</td>\n",
       "      <td>NO_QUERY</td>\n",
       "      <td>_TheSpecialOne_</td>\n",
       "      <td>@switchfoot http://twitpic.com/2y1zl - Awww, t...</td>\n",
       "    </tr>\n",
       "    <tr>\n",
       "      <th>1</th>\n",
       "      <td>0</td>\n",
       "      <td>1467810672</td>\n",
       "      <td>Mon Apr 06 22:19:49 PDT 2009</td>\n",
       "      <td>NO_QUERY</td>\n",
       "      <td>scotthamilton</td>\n",
       "      <td>is upset that he can't update his Facebook by ...</td>\n",
       "    </tr>\n",
       "    <tr>\n",
       "      <th>2</th>\n",
       "      <td>0</td>\n",
       "      <td>1467810917</td>\n",
       "      <td>Mon Apr 06 22:19:53 PDT 2009</td>\n",
       "      <td>NO_QUERY</td>\n",
       "      <td>mattycus</td>\n",
       "      <td>@Kenichan I dived many times for the ball. Man...</td>\n",
       "    </tr>\n",
       "    <tr>\n",
       "      <th>3</th>\n",
       "      <td>0</td>\n",
       "      <td>1467811184</td>\n",
       "      <td>Mon Apr 06 22:19:57 PDT 2009</td>\n",
       "      <td>NO_QUERY</td>\n",
       "      <td>ElleCTF</td>\n",
       "      <td>my whole body feels itchy and like its on fire</td>\n",
       "    </tr>\n",
       "    <tr>\n",
       "      <th>4</th>\n",
       "      <td>0</td>\n",
       "      <td>1467811193</td>\n",
       "      <td>Mon Apr 06 22:19:57 PDT 2009</td>\n",
       "      <td>NO_QUERY</td>\n",
       "      <td>Karoli</td>\n",
       "      <td>@nationwideclass no, it's not behaving at all....</td>\n",
       "    </tr>\n",
       "    <tr>\n",
       "      <th>...</th>\n",
       "      <td>...</td>\n",
       "      <td>...</td>\n",
       "      <td>...</td>\n",
       "      <td>...</td>\n",
       "      <td>...</td>\n",
       "      <td>...</td>\n",
       "    </tr>\n",
       "    <tr>\n",
       "      <th>799995</th>\n",
       "      <td>0</td>\n",
       "      <td>2329205009</td>\n",
       "      <td>Thu Jun 25 10:28:28 PDT 2009</td>\n",
       "      <td>NO_QUERY</td>\n",
       "      <td>dandykim</td>\n",
       "      <td>Sick  Spending my day laying in bed listening ...</td>\n",
       "    </tr>\n",
       "    <tr>\n",
       "      <th>799996</th>\n",
       "      <td>0</td>\n",
       "      <td>2329205038</td>\n",
       "      <td>Thu Jun 25 10:28:28 PDT 2009</td>\n",
       "      <td>NO_QUERY</td>\n",
       "      <td>bigenya</td>\n",
       "      <td>Gmail is down?</td>\n",
       "    </tr>\n",
       "    <tr>\n",
       "      <th>799997</th>\n",
       "      <td>0</td>\n",
       "      <td>2329205473</td>\n",
       "      <td>Thu Jun 25 10:28:30 PDT 2009</td>\n",
       "      <td>NO_QUERY</td>\n",
       "      <td>LeeLHoke</td>\n",
       "      <td>rest in peace Farrah! So sad</td>\n",
       "    </tr>\n",
       "    <tr>\n",
       "      <th>799998</th>\n",
       "      <td>0</td>\n",
       "      <td>2329205574</td>\n",
       "      <td>Thu Jun 25 10:28:30 PDT 2009</td>\n",
       "      <td>NO_QUERY</td>\n",
       "      <td>davidlmulder</td>\n",
       "      <td>@Eric_Urbane Sounds like a rival is flagging y...</td>\n",
       "    </tr>\n",
       "    <tr>\n",
       "      <th>799999</th>\n",
       "      <td>0</td>\n",
       "      <td>2329205794</td>\n",
       "      <td>Thu Jun 25 10:28:31 PDT 2009</td>\n",
       "      <td>NO_QUERY</td>\n",
       "      <td>tpchandler</td>\n",
       "      <td>has to resit exams over summer...  wishes he w...</td>\n",
       "    </tr>\n",
       "  </tbody>\n",
       "</table>\n",
       "<p>800000 rows × 6 columns</p>\n",
       "</div>"
      ],
      "text/plain": [
       "        target         ids                          date      flag  \\\n",
       "0            0  1467810369  Mon Apr 06 22:19:45 PDT 2009  NO_QUERY   \n",
       "1            0  1467810672  Mon Apr 06 22:19:49 PDT 2009  NO_QUERY   \n",
       "2            0  1467810917  Mon Apr 06 22:19:53 PDT 2009  NO_QUERY   \n",
       "3            0  1467811184  Mon Apr 06 22:19:57 PDT 2009  NO_QUERY   \n",
       "4            0  1467811193  Mon Apr 06 22:19:57 PDT 2009  NO_QUERY   \n",
       "...        ...         ...                           ...       ...   \n",
       "799995       0  2329205009  Thu Jun 25 10:28:28 PDT 2009  NO_QUERY   \n",
       "799996       0  2329205038  Thu Jun 25 10:28:28 PDT 2009  NO_QUERY   \n",
       "799997       0  2329205473  Thu Jun 25 10:28:30 PDT 2009  NO_QUERY   \n",
       "799998       0  2329205574  Thu Jun 25 10:28:30 PDT 2009  NO_QUERY   \n",
       "799999       0  2329205794  Thu Jun 25 10:28:31 PDT 2009  NO_QUERY   \n",
       "\n",
       "                   user                                               text  \n",
       "0       _TheSpecialOne_  @switchfoot http://twitpic.com/2y1zl - Awww, t...  \n",
       "1         scotthamilton  is upset that he can't update his Facebook by ...  \n",
       "2              mattycus  @Kenichan I dived many times for the ball. Man...  \n",
       "3               ElleCTF    my whole body feels itchy and like its on fire   \n",
       "4                Karoli  @nationwideclass no, it's not behaving at all....  \n",
       "...                 ...                                                ...  \n",
       "799995         dandykim  Sick  Spending my day laying in bed listening ...  \n",
       "799996          bigenya                                    Gmail is down?   \n",
       "799997         LeeLHoke                      rest in peace Farrah! So sad   \n",
       "799998     davidlmulder  @Eric_Urbane Sounds like a rival is flagging y...  \n",
       "799999       tpchandler  has to resit exams over summer...  wishes he w...  \n",
       "\n",
       "[800000 rows x 6 columns]"
      ]
     },
     "execution_count": 33,
     "metadata": {},
     "output_type": "execute_result"
    }
   ],
   "source": [
    "twitter_sentiment_df[twitter_sentiment_df.target==0]"
   ]
  },
  {
   "cell_type": "code",
   "execution_count": null,
   "id": "972f1893-47c1-4430-8277-1a983513edeb",
   "metadata": {},
   "outputs": [],
   "source": []
  }
 ],
 "metadata": {
  "kernelspec": {
   "display_name": "Python 3 (ipykernel)",
   "language": "python",
   "name": "python3"
  },
  "language_info": {
   "codemirror_mode": {
    "name": "ipython",
    "version": 3
   },
   "file_extension": ".py",
   "mimetype": "text/x-python",
   "name": "python",
   "nbconvert_exporter": "python",
   "pygments_lexer": "ipython3",
   "version": "3.10.13"
  }
 },
 "nbformat": 4,
 "nbformat_minor": 5
}
