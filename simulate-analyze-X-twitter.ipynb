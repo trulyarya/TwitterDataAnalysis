{
 "cells": [
  {
   "cell_type": "markdown",
   "id": "5b1389d1-8515-49d5-be40-d97ca0d401c5",
   "metadata": {},
   "source": [
    "# Simulate, Clean, Plot and Analyze Social Media Data"
   ]
  },
  {
   "cell_type": "markdown",
   "id": "77f550d0-f8fb-4131-bcb6-77947a38d09f",
   "metadata": {},
   "source": [
    "**Introduction**\n",
    "\n",
    "In this short project, we explore a simulated social media, e.g. Tweets, dataset to understand trends in _likes_ across different categories.\n",
    "\n",
    "**Project Scope**\n",
    "\n",
    "The objective of this project is to analyze tweets (dates, likes, categories) and gain insights into user engagement. A real dataset was not used for this proejct. This means that we first need to realistically simulate a random but reproducible dataset, where it best represents the real-world. This applies to the distribution of the \"likes\" received per tweet and (to the somewhat realistic) probabilites of different topics (categories) of tweets. We will then explore the dataset using visualization techniques to understand the distribution of likes across different categories. Finally, we will analyze the data to draw conclusions about the most popular categories."
   ]
  },
  {
   "cell_type": "markdown",
   "id": "263330ab-ed8f-4a6e-b2f8-fa81d5c92ae5",
   "metadata": {},
   "source": [
    "## Part 1: Required libraries & their purpose\n",
    "\n",
    "To do the analysis, we'll gather and import the following Python libraries:\n",
    "\n",
    "* `pandas` for creating the dataframe, grouping and analysis\n",
    "* `numpy` for forming random reproducible numbers from a range and choosing values from a list with different probabilities\n",
    "* `Matplotlib.pyplot` for displaying graphs and tweaking the plots\n",
    "* `seaborn` for plotting the data"
   ]
  },
  {
   "cell_type": "code",
   "execution_count": 1,
   "id": "62e238ba-d2d3-434f-94a0-6b2a8bb3109a",
   "metadata": {},
   "outputs": [],
   "source": [
    "import pandas as pd\n",
    "import numpy as np\n",
    "import matplotlib.pyplot as plt\n",
    "import seaborn as sns"
   ]
  },
  {
   "cell_type": "markdown",
   "id": "7e24d8ad-bca4-466c-a41c-022d188cbcf2",
   "metadata": {},
   "source": [
    "## Part 2: Generate random but realistic Twitter data\n",
    "\n",
    "Let's generate some random tweet data to analyze.\n",
    "\n",
    "We'll use `pandas`' `date_range()` method to choose a pseudo-random date within a range, the `numpy` module’s `choice` to create a choice from a list with varying probabilities, and `numpy`’s `random.lognormal` to create random numbers that are distributed similar to a log-normal distribution (skewed, right long tail, resembling the number of likes social media posts get).\n",
    "\n",
    "Next, we'll generate a dictionary filled with random data (values) mentioned above, and the following fields (keys):\n",
    "\n",
    "* `Date`: The date on which the tweet was created\n",
    "* `Category`: The main subject (category) of the tweet\n",
    "* `Likes`: The number of likes the tweet has received\n",
    "\n",
    "The data needs to align, so the _Date_ dictionary-entry should be _n_ periods long, The _Category_ should be a _list_ of random choices _n_ entries long (8 possible choices), and the _Likes_ category should be random integers in the range _0_ to _5000_ (representing number of likes for each single tweet) also with size equal to _n_."
   ]
  },
  {
   "cell_type": "markdown",
   "id": "b723be41-8471-46b6-a783-f54cbe2c691d",
   "metadata": {},
   "source": [
    "### Number of tweets to analyze\n",
    "Let's simulate and analyze a gigangtic **1 million tweets** (n = 1000000)!"
   ]
  },
  {
   "cell_type": "code",
   "execution_count": 2,
   "id": "d1538798-76db-4090-bbb7-dd92ea1dc43a",
   "metadata": {},
   "outputs": [],
   "source": [
    "no_of_tweets = 10**6"
   ]
  },
  {
   "cell_type": "markdown",
   "id": "cd3963e7-af5c-44e7-96fe-9355498080ea",
   "metadata": {},
   "source": [
    "### Number & distribution of likes per tweet\n",
    "**`likes`:** We need to generate random integers between 0 adn 5000 (number of likes) with a heavy skew and long-tail to the right (log-normal).\n",
    "\n",
    "*Note:* In order to set the \"_seed_\" of the random generator in `numpy` to a set number so we can reproduce the random integers later, it is best practice to use the `np.random.default_rng(seed)` method. Then we can use the for instance the `.integers(low, high, size)` (or another) method, in case necessary, in order to produce the same exact random numbers in the future when we re-run the code."
   ]
  },
  {
   "cell_type": "code",
   "execution_count": 3,
   "id": "eee438f2-18b6-45c3-8bae-31ba1c75524a",
   "metadata": {},
   "outputs": [
    {
     "name": "stdout",
     "output_type": "stream",
     "text": [
      "The length of `likes`: 1000000\n"
     ]
    },
    {
     "data": {
      "text/plain": [
       "array([ 43, 149, 248, ...,  99, 208, 124])"
      ]
     },
     "execution_count": 3,
     "metadata": {},
     "output_type": "execute_result"
    }
   ],
   "source": [
    "# For reproducibility, so that we get the same (random) numbers when running the code later\n",
    "rng = np.random.default_rng(seed=1234)\n",
    "\n",
    "# Chosen mean (mu) and standard deviation (sigma) of the (log-normal) distribution\n",
    "mu, sigma = 15, 0.75 \n",
    "\n",
    "# Generate a random log-normal distribution:\n",
    "raw_likes = rng.lognormal(mu, sigma, no_of_tweets) #reproducible np array w/ 1,000,000 random no. w/ log-norm dist.\n",
    "\n",
    "# Scaling and making sure the values (# of likes received for each tweet (or data row)) is between 0 and 5,000:\n",
    "scaled_likes = raw_likes / raw_likes.max() * 5000\n",
    "\n",
    "# Finally rounding the numbers and converting to integers to ensure they are integers within the 0 - 5000 range:\n",
    "likes = np.round(scaled_likes).astype(int) #likes can't be float\n",
    "\n",
    "print(f\"The length of `likes`: {len(likes)}\")\n",
    "likes"
   ]
  },
  {
   "cell_type": "markdown",
   "id": "466266c8-0649-473f-8b4d-1b3ce8119129",
   "metadata": {},
   "source": [
    "### Dates of the tweets\n",
    "**`date`**: We need 1 million date entries between January 1st and December 31st 2023. To do so, we'll simply use `pandas`' `pd.date_range()` funcion:"
   ]
  },
  {
   "cell_type": "code",
   "execution_count": 37,
   "id": "90e3daa4-2458-4145-9559-cc8911ad1eba",
   "metadata": {},
   "outputs": [],
   "source": [
    "date = pd.date_range(start='2023-01-01', end='2023-12-31', periods=no_of_tweets)"
   ]
  },
  {
   "cell_type": "markdown",
   "id": "4b31e61a-5e02-4e5b-b4fd-7d3f019eae35",
   "metadata": {},
   "source": [
    "### Category of each tweet\n",
    "**`category`**: We need 1 million random category types (from the `categories` list). For this, we'll set up **different probabilities (`p`) for each of the category** types. The reason is, we do not want to have the same probability across all category types. This is also not the case in a real-world scenario. Since we need a lot of entries, it's best to use a `numpy.random.choice()` array instead of `random.choice()`, that creates a _slow_ `list`.\n",
    "\n",
    "To define a list of topics for the social media experiment, we'll choose from the following categories:\n",
    "\n",
    "* _Food_\n",
    "* _Travel_\n",
    "* _Fashion_\n",
    "* _Fitness_\n",
    "* _Music_\n",
    "* _Culture_\n",
    "* _Family_\n",
    "* _Health_"
   ]
  },
  {
   "cell_type": "code",
   "execution_count": 39,
   "id": "ba95308e-338c-4f9e-b406-30c70bd9b3bd",
   "metadata": {},
   "outputs": [],
   "source": [
    "categories = ['Food', 'Travel', 'Fashion', 'Fitness', 'Music', 'Culture', 'Family', 'Health']\n",
    "\n",
    "#we again use the numpy `rng` random variable above that we set a seed for to reproduce the values later too:\n",
    "category = rng.choice(categories, size=no_of_tweets, p=[0.05, 0.25, 0.15, 0.25, 0.1, 0.025, 0.1, 0.075])  # sum(p) must be 100% !"
   ]
  },
  {
   "cell_type": "markdown",
   "id": "cb388d16-d57a-4625-beea-f53dab20122c",
   "metadata": {},
   "source": [
    "### Wrapping Twitter data in a dictionary"
   ]
  },
  {
   "cell_type": "code",
   "execution_count": 40,
   "id": "30a31a5d-c7cd-44c0-9138-74176f679fdd",
   "metadata": {},
   "outputs": [],
   "source": [
    "twitter_data = {'Date': date, 'Category': category, 'Likes': likes}"
   ]
  },
  {
   "cell_type": "markdown",
   "id": "37677b99-145a-4ddc-80b3-7a8a98e1f39b",
   "metadata": {},
   "source": [
    "## Part 3: Loading & exploring the data\n",
    "\n",
    "In the next step we'll load the randomly generated data into a `pandas`' dataframe (`pd.DataFrame()`). Afterwards we'll explore the the dataframe information (`df.info()`) and the dataframe description (`df.describe()`)."
   ]
  },
  {
   "cell_type": "code",
   "execution_count": 7,
   "id": "b0ef1edc-b5c0-427d-889e-3db1b8ec2be8",
   "metadata": {},
   "outputs": [
    {
     "data": {
      "text/html": [
       "<div>\n",
       "<style scoped>\n",
       "    .dataframe tbody tr th:only-of-type {\n",
       "        vertical-align: middle;\n",
       "    }\n",
       "\n",
       "    .dataframe tbody tr th {\n",
       "        vertical-align: top;\n",
       "    }\n",
       "\n",
       "    .dataframe thead th {\n",
       "        text-align: right;\n",
       "    }\n",
       "</style>\n",
       "<table border=\"1\" class=\"dataframe\">\n",
       "  <thead>\n",
       "    <tr style=\"text-align: right;\">\n",
       "      <th></th>\n",
       "      <th>Date</th>\n",
       "      <th>Category</th>\n",
       "      <th>Likes</th>\n",
       "    </tr>\n",
       "  </thead>\n",
       "  <tbody>\n",
       "    <tr>\n",
       "      <th>0</th>\n",
       "      <td>2023-01-01 00:00:00.000000000</td>\n",
       "      <td>Culture</td>\n",
       "      <td>43</td>\n",
       "    </tr>\n",
       "    <tr>\n",
       "      <th>1</th>\n",
       "      <td>2023-01-01 00:00:31.449631449</td>\n",
       "      <td>Family</td>\n",
       "      <td>149</td>\n",
       "    </tr>\n",
       "    <tr>\n",
       "      <th>2</th>\n",
       "      <td>2023-01-01 00:01:02.899262899</td>\n",
       "      <td>Music</td>\n",
       "      <td>248</td>\n",
       "    </tr>\n",
       "    <tr>\n",
       "      <th>3</th>\n",
       "      <td>2023-01-01 00:01:34.348894348</td>\n",
       "      <td>Fitness</td>\n",
       "      <td>159</td>\n",
       "    </tr>\n",
       "    <tr>\n",
       "      <th>4</th>\n",
       "      <td>2023-01-01 00:02:05.798525798</td>\n",
       "      <td>Family</td>\n",
       "      <td>272</td>\n",
       "    </tr>\n",
       "    <tr>\n",
       "      <th>...</th>\n",
       "      <td>...</td>\n",
       "      <td>...</td>\n",
       "      <td>...</td>\n",
       "    </tr>\n",
       "    <tr>\n",
       "      <th>999995</th>\n",
       "      <td>2023-12-30 23:57:54.201474204</td>\n",
       "      <td>Family</td>\n",
       "      <td>194</td>\n",
       "    </tr>\n",
       "    <tr>\n",
       "      <th>999996</th>\n",
       "      <td>2023-12-30 23:58:25.651105652</td>\n",
       "      <td>Music</td>\n",
       "      <td>298</td>\n",
       "    </tr>\n",
       "    <tr>\n",
       "      <th>999997</th>\n",
       "      <td>2023-12-30 23:58:57.100737100</td>\n",
       "      <td>Fitness</td>\n",
       "      <td>99</td>\n",
       "    </tr>\n",
       "    <tr>\n",
       "      <th>999998</th>\n",
       "      <td>2023-12-30 23:59:28.550368552</td>\n",
       "      <td>Family</td>\n",
       "      <td>208</td>\n",
       "    </tr>\n",
       "    <tr>\n",
       "      <th>999999</th>\n",
       "      <td>2023-12-31 00:00:00.000000000</td>\n",
       "      <td>Fashion</td>\n",
       "      <td>124</td>\n",
       "    </tr>\n",
       "  </tbody>\n",
       "</table>\n",
       "<p>1000000 rows × 3 columns</p>\n",
       "</div>"
      ],
      "text/plain": [
       "                                Date Category  Likes\n",
       "0      2023-01-01 00:00:00.000000000  Culture     43\n",
       "1      2023-01-01 00:00:31.449631449   Family    149\n",
       "2      2023-01-01 00:01:02.899262899    Music    248\n",
       "3      2023-01-01 00:01:34.348894348  Fitness    159\n",
       "4      2023-01-01 00:02:05.798525798   Family    272\n",
       "...                              ...      ...    ...\n",
       "999995 2023-12-30 23:57:54.201474204   Family    194\n",
       "999996 2023-12-30 23:58:25.651105652    Music    298\n",
       "999997 2023-12-30 23:58:57.100737100  Fitness     99\n",
       "999998 2023-12-30 23:59:28.550368552   Family    208\n",
       "999999 2023-12-31 00:00:00.000000000  Fashion    124\n",
       "\n",
       "[1000000 rows x 3 columns]"
      ]
     },
     "execution_count": 7,
     "metadata": {},
     "output_type": "execute_result"
    }
   ],
   "source": [
    "df = pd.DataFrame(data=twitter_data)\n",
    "df #dataframe with a million rows!"
   ]
  },
  {
   "cell_type": "code",
   "execution_count": 8,
   "id": "f8b44c08-2e6e-4c85-a84b-1ed08dcd98e5",
   "metadata": {},
   "outputs": [
    {
     "name": "stdout",
     "output_type": "stream",
     "text": [
      "<class 'pandas.core.frame.DataFrame'>\n",
      "RangeIndex: 1000000 entries, 0 to 999999\n",
      "Data columns (total 3 columns):\n",
      " #   Column    Non-Null Count    Dtype         \n",
      "---  ------    --------------    -----         \n",
      " 0   Date      1000000 non-null  datetime64[ns]\n",
      " 1   Category  1000000 non-null  object        \n",
      " 2   Likes     1000000 non-null  int64         \n",
      "dtypes: datetime64[ns](1), int64(1), object(1)\n",
      "memory usage: 22.9+ MB\n"
     ]
    }
   ],
   "source": [
    "df.info()\n",
    "# Everything looks good: no. of rows is 1 million, data types are time, string and integers, and no null values in columns:"
   ]
  },
  {
   "cell_type": "code",
   "execution_count": 106,
   "id": "6e6be684-ccbd-4dc4-8102-85cb3b28d84f",
   "metadata": {},
   "outputs": [
    {
     "data": {
      "text/plain": [
       "array(['Culture', 'Family', 'Music', 'Fitness', 'Travel', 'Fashion',\n",
       "       'Health', 'Food'], dtype=object)"
      ]
     },
     "execution_count": 106,
     "metadata": {},
     "output_type": "execute_result"
    }
   ],
   "source": [
    "df.Category.unique()"
   ]
  },
  {
   "cell_type": "markdown",
   "id": "65f3f2c0-e347-4216-91e8-280c028d8f4c",
   "metadata": {},
   "source": [
    "### Descriptive statistics of the dataset"
   ]
  },
  {
   "cell_type": "code",
   "execution_count": 9,
   "id": "3a3fc9e5-3834-4fa1-a829-f96684d1340c",
   "metadata": {},
   "outputs": [
    {
     "data": {
      "text/html": [
       "<div>\n",
       "<style scoped>\n",
       "    .dataframe tbody tr th:only-of-type {\n",
       "        vertical-align: middle;\n",
       "    }\n",
       "\n",
       "    .dataframe tbody tr th {\n",
       "        vertical-align: top;\n",
       "    }\n",
       "\n",
       "    .dataframe thead th {\n",
       "        text-align: right;\n",
       "    }\n",
       "</style>\n",
       "<table border=\"1\" class=\"dataframe\">\n",
       "  <thead>\n",
       "    <tr style=\"text-align: right;\">\n",
       "      <th></th>\n",
       "      <th>Likes</th>\n",
       "    </tr>\n",
       "  </thead>\n",
       "  <tbody>\n",
       "    <tr>\n",
       "      <th>count</th>\n",
       "      <td>1000000.000000</td>\n",
       "    </tr>\n",
       "    <tr>\n",
       "      <th>mean</th>\n",
       "      <td>188.297463</td>\n",
       "    </tr>\n",
       "    <tr>\n",
       "      <th>std</th>\n",
       "      <td>162.876118</td>\n",
       "    </tr>\n",
       "    <tr>\n",
       "      <th>min</th>\n",
       "      <td>4.000000</td>\n",
       "    </tr>\n",
       "    <tr>\n",
       "      <th>25%</th>\n",
       "      <td>86.000000</td>\n",
       "    </tr>\n",
       "    <tr>\n",
       "      <th>50%</th>\n",
       "      <td>142.000000</td>\n",
       "    </tr>\n",
       "    <tr>\n",
       "      <th>75%</th>\n",
       "      <td>236.000000</td>\n",
       "    </tr>\n",
       "    <tr>\n",
       "      <th>max</th>\n",
       "      <td>5000.000000</td>\n",
       "    </tr>\n",
       "  </tbody>\n",
       "</table>\n",
       "</div>"
      ],
      "text/plain": [
       "                Likes\n",
       "count  1000000.000000\n",
       "mean       188.297463\n",
       "std        162.876118\n",
       "min          4.000000\n",
       "25%         86.000000\n",
       "50%        142.000000\n",
       "75%        236.000000\n",
       "max       5000.000000"
      ]
     },
     "execution_count": 9,
     "metadata": {},
     "output_type": "execute_result"
    }
   ],
   "source": [
    "df.describe(include=np.number) #only include numeric columns"
   ]
  },
  {
   "cell_type": "markdown",
   "id": "5d6619ab-2c0c-4e19-9440-29ccc7a51105",
   "metadata": {},
   "source": [
    "As seen in the above output (`df.describe()`):\n",
    "* The tweet with the lowest _likes_ has received only 4, and the one with the highest number of _likes_ has 5000.\n",
    "* The average number of _likes_ received per Tweet is about 188.\n",
    "* 25% of the Tweets got 86 or less _likes_\n",
    "* 50% of the Tweets got 142 or less _likes_\n",
    "* 75% of the Tweets got 236 or less _likes_\n",
    "\n",
    "For demonstration purposes (and to make sure the numbers are correct), let's spell out the statistics below:"
   ]
  },
  {
   "cell_type": "code",
   "execution_count": 115,
   "id": "78623c16-ecae-426c-a42a-78b9cfc99630",
   "metadata": {},
   "outputs": [
    {
     "name": "stdout",
     "output_type": "stream",
     "text": [
      "The average number of likes per tweet is: 188\n",
      "The lowest number of likes for a tweet is: 4\n",
      "The highest number of likes for a tweet is: 5000\n",
      "The percentage of Twitter posts that have more than 86 likes: 74.5895%\n",
      "The percentage of Twitter posts that have more than 142 likes: 49.8255%\n",
      "The percentage of Twitter posts that have more than 236 likes: 24.8674%\n"
     ]
    }
   ],
   "source": [
    "print(f\"The average number of likes per tweet is: {df.Likes.mean().astype('int')}\")\n",
    "print(f\"The lowest number of likes for a tweet is: {df.Likes.min()}\")\n",
    "print(f\"The highest number of likes for a tweet is: {df.Likes.max()}\")\n",
    "print(f\"The percentage of Twitter posts that have more than 86 likes: {len(df[df.Likes > 86]) / len(df) * 100}%\")\n",
    "print(f\"The percentage of Twitter posts that have more than 142 likes: {len(df[df.Likes > 142]) / len(df) * 100}%\")\n",
    "print(f\"The percentage of Twitter posts that have more than 236 likes: {len(df[df.Likes > 236]) / len(df) * 100}%\")"
   ]
  },
  {
   "cell_type": "markdown",
   "id": "40eb2467-3fce-44e7-b7a7-d77466a33ee2",
   "metadata": {},
   "source": [
    "However, the mode and the median are the dataset (for `Likes`) is missing.\n",
    "\n",
    "* _Mode_: The value appear most often within a dataset.\n",
    "* _Median_: The value in the _middle_ of the dataset. It means that 50% of the values are larger (or equal) and 50% are smaller (or equal) compared to the median."
   ]
  },
  {
   "cell_type": "code",
   "execution_count": 117,
   "id": "47c96da9-e314-449b-8b7b-7993c53ddb54",
   "metadata": {},
   "outputs": [
    {
     "data": {
      "text/html": [
       "<div>\n",
       "<style scoped>\n",
       "    .dataframe tbody tr th:only-of-type {\n",
       "        vertical-align: middle;\n",
       "    }\n",
       "\n",
       "    .dataframe tbody tr th {\n",
       "        vertical-align: top;\n",
       "    }\n",
       "\n",
       "    .dataframe thead th {\n",
       "        text-align: right;\n",
       "    }\n",
       "</style>\n",
       "<table border=\"1\" class=\"dataframe\">\n",
       "  <thead>\n",
       "    <tr style=\"text-align: right;\">\n",
       "      <th></th>\n",
       "      <th>Likes</th>\n",
       "    </tr>\n",
       "  </thead>\n",
       "  <tbody>\n",
       "    <tr>\n",
       "      <th>0</th>\n",
       "      <td>84</td>\n",
       "    </tr>\n",
       "  </tbody>\n",
       "</table>\n",
       "</div>"
      ],
      "text/plain": [
       "   Likes\n",
       "0     84"
      ]
     },
     "execution_count": 117,
     "metadata": {},
     "output_type": "execute_result"
    }
   ],
   "source": [
    "df.mode(numeric_only=True)"
   ]
  },
  {
   "cell_type": "code",
   "execution_count": 121,
   "id": "d91578a7-ed20-45be-a731-fb274eada7d8",
   "metadata": {},
   "outputs": [
    {
     "data": {
      "text/plain": [
       "142.0"
      ]
     },
     "execution_count": 121,
     "metadata": {},
     "output_type": "execute_result"
    }
   ],
   "source": [
    "df.Likes.median()"
   ]
  },
  {
   "cell_type": "markdown",
   "id": "4449dedb-8107-4c6a-8369-e957d5438994",
   "metadata": {},
   "source": [
    "Therefore:\n",
    "* The most common number of likes for a tweet was **84**.\n",
    "* The median number of likes is **142**. Which means half the tweets got less than 142 likes, and the other half received more than 142 likes for the post."
   ]
  },
  {
   "cell_type": "code",
   "execution_count": 158,
   "id": "9be23462-c2ab-40c0-b279-d675c24f06d8",
   "metadata": {},
   "outputs": [
    {
     "data": {
      "text/html": [
       "<div>\n",
       "<style scoped>\n",
       "    .dataframe tbody tr th:only-of-type {\n",
       "        vertical-align: middle;\n",
       "    }\n",
       "\n",
       "    .dataframe tbody tr th {\n",
       "        vertical-align: top;\n",
       "    }\n",
       "\n",
       "    .dataframe thead th {\n",
       "        text-align: right;\n",
       "    }\n",
       "</style>\n",
       "<table border=\"1\" class=\"dataframe\">\n",
       "  <thead>\n",
       "    <tr style=\"text-align: right;\">\n",
       "      <th></th>\n",
       "      <th>Date</th>\n",
       "      <th>Category</th>\n",
       "    </tr>\n",
       "    <tr>\n",
       "      <th>Likes</th>\n",
       "      <th></th>\n",
       "      <th></th>\n",
       "    </tr>\n",
       "  </thead>\n",
       "  <tbody>\n",
       "    <tr>\n",
       "      <th>84</th>\n",
       "      <td>5031</td>\n",
       "      <td>5031</td>\n",
       "    </tr>\n",
       "    <tr>\n",
       "      <th>86</th>\n",
       "      <td>5022</td>\n",
       "      <td>5022</td>\n",
       "    </tr>\n",
       "    <tr>\n",
       "      <th>75</th>\n",
       "      <td>5014</td>\n",
       "      <td>5014</td>\n",
       "    </tr>\n",
       "    <tr>\n",
       "      <th>93</th>\n",
       "      <td>4989</td>\n",
       "      <td>4989</td>\n",
       "    </tr>\n",
       "    <tr>\n",
       "      <th>87</th>\n",
       "      <td>4983</td>\n",
       "      <td>4983</td>\n",
       "    </tr>\n",
       "  </tbody>\n",
       "</table>\n",
       "</div>"
      ],
      "text/plain": [
       "       Date  Category\n",
       "Likes                \n",
       "84     5031      5031\n",
       "86     5022      5022\n",
       "75     5014      5014\n",
       "93     4989      4989\n",
       "87     4983      4983"
      ]
     },
     "execution_count": 158,
     "metadata": {},
     "output_type": "execute_result"
    }
   ],
   "source": [
    "# Evaluating the \"mode\": 84 likes is indeed the most common \"count\" for tweets, followed by 86, 75, ...!\n",
    "df.groupby('Likes').count().sort_values('Date', ascending=False).head()"
   ]
  },
  {
   "cell_type": "code",
   "execution_count": 177,
   "id": "8a073d3d-af12-435b-a01f-c1fd85c91b9f",
   "metadata": {},
   "outputs": [
    {
     "name": "stdout",
     "output_type": "stream",
     "text": [
      "Number of tweets that received 142 or more likes: 502071\n",
      "Number of tweets that received less than 142 likes: 497929\n",
      "Sum of tweets mentioned above: 1000000\n"
     ]
    }
   ],
   "source": [
    "# Evaluating the \"mean\": 142 is the middle number of likes.\n",
    "print(f\"Number of tweets that received 142 or more likes: {len(df[df.Likes >= 142])}\")\n",
    "print(f\"Number of tweets that received less than 142 likes: {len(df[df.Likes < 142])}\")\n",
    "print(f\"Sum of tweets mentioned above: {len(df[df.Likes >= 142]) + len(df[df.Likes < 142])}\")"
   ]
  },
  {
   "cell_type": "markdown",
   "id": "5ffa1bed-3927-4b83-9984-23ce5a6744cc",
   "metadata": {},
   "source": [
    "## Part 4: Cleaning the data\n",
    "\n",
    "As we saw above (using the `df.info()` method), there were no null values and since this dataset was simulated artificially, no gaps or certain amount of celaning is necessary. However, this is not the case in the real world, as data is never clean.\n",
    "\n",
    "The only thing in this case we can improve, is to appropriately display the date information, we'll normalize the date column to a datetime format using the `pd.to_datetime().dt.normalize()` method in order to remove the redundant \"time\" values in the `Date`column, while keeping the `datetime` data type intact! "
   ]
  },
  {
   "cell_type": "code",
   "execution_count": 179,
   "id": "03048fe4-487c-4798-adb1-1a866af5ce85",
   "metadata": {},
   "outputs": [
    {
     "name": "stdout",
     "output_type": "stream",
     "text": [
      "Data type for the Date column is unchanged: datetime64[ns]\n"
     ]
    },
    {
     "data": {
      "text/html": [
       "<div>\n",
       "<style scoped>\n",
       "    .dataframe tbody tr th:only-of-type {\n",
       "        vertical-align: middle;\n",
       "    }\n",
       "\n",
       "    .dataframe tbody tr th {\n",
       "        vertical-align: top;\n",
       "    }\n",
       "\n",
       "    .dataframe thead th {\n",
       "        text-align: right;\n",
       "    }\n",
       "</style>\n",
       "<table border=\"1\" class=\"dataframe\">\n",
       "  <thead>\n",
       "    <tr style=\"text-align: right;\">\n",
       "      <th></th>\n",
       "      <th>Date</th>\n",
       "      <th>Category</th>\n",
       "      <th>Likes</th>\n",
       "    </tr>\n",
       "  </thead>\n",
       "  <tbody>\n",
       "    <tr>\n",
       "      <th>0</th>\n",
       "      <td>2023-01-01</td>\n",
       "      <td>Culture</td>\n",
       "      <td>43</td>\n",
       "    </tr>\n",
       "    <tr>\n",
       "      <th>1</th>\n",
       "      <td>2023-01-01</td>\n",
       "      <td>Family</td>\n",
       "      <td>149</td>\n",
       "    </tr>\n",
       "    <tr>\n",
       "      <th>2</th>\n",
       "      <td>2023-01-01</td>\n",
       "      <td>Music</td>\n",
       "      <td>248</td>\n",
       "    </tr>\n",
       "    <tr>\n",
       "      <th>3</th>\n",
       "      <td>2023-01-01</td>\n",
       "      <td>Fitness</td>\n",
       "      <td>159</td>\n",
       "    </tr>\n",
       "    <tr>\n",
       "      <th>4</th>\n",
       "      <td>2023-01-01</td>\n",
       "      <td>Family</td>\n",
       "      <td>272</td>\n",
       "    </tr>\n",
       "    <tr>\n",
       "      <th>...</th>\n",
       "      <td>...</td>\n",
       "      <td>...</td>\n",
       "      <td>...</td>\n",
       "    </tr>\n",
       "    <tr>\n",
       "      <th>999995</th>\n",
       "      <td>2023-12-30</td>\n",
       "      <td>Family</td>\n",
       "      <td>194</td>\n",
       "    </tr>\n",
       "    <tr>\n",
       "      <th>999996</th>\n",
       "      <td>2023-12-30</td>\n",
       "      <td>Music</td>\n",
       "      <td>298</td>\n",
       "    </tr>\n",
       "    <tr>\n",
       "      <th>999997</th>\n",
       "      <td>2023-12-30</td>\n",
       "      <td>Fitness</td>\n",
       "      <td>99</td>\n",
       "    </tr>\n",
       "    <tr>\n",
       "      <th>999998</th>\n",
       "      <td>2023-12-30</td>\n",
       "      <td>Family</td>\n",
       "      <td>208</td>\n",
       "    </tr>\n",
       "    <tr>\n",
       "      <th>999999</th>\n",
       "      <td>2023-12-31</td>\n",
       "      <td>Fashion</td>\n",
       "      <td>124</td>\n",
       "    </tr>\n",
       "  </tbody>\n",
       "</table>\n",
       "<p>1000000 rows × 3 columns</p>\n",
       "</div>"
      ],
      "text/plain": [
       "             Date Category  Likes\n",
       "0      2023-01-01  Culture     43\n",
       "1      2023-01-01   Family    149\n",
       "2      2023-01-01    Music    248\n",
       "3      2023-01-01  Fitness    159\n",
       "4      2023-01-01   Family    272\n",
       "...           ...      ...    ...\n",
       "999995 2023-12-30   Family    194\n",
       "999996 2023-12-30    Music    298\n",
       "999997 2023-12-30  Fitness     99\n",
       "999998 2023-12-30   Family    208\n",
       "999999 2023-12-31  Fashion    124\n",
       "\n",
       "[1000000 rows x 3 columns]"
      ]
     },
     "execution_count": 179,
     "metadata": {},
     "output_type": "execute_result"
    }
   ],
   "source": [
    "#we use normalize to remove the time portion AND keep Dtype as datetime!\n",
    "df['Date'] = pd.to_datetime(df['Date']).dt.normalize()\n",
    "\n",
    "print('Data type for the Date column is unchanged:', df.Date.dtype) #\n",
    "df#.head()"
   ]
  },
  {
   "cell_type": "markdown",
   "id": "76699ee9-6e6e-496b-8f0b-e068c5899de1",
   "metadata": {},
   "source": [
    "## Part 5: Visualizing & analyzing the data\n",
    "\n",
    "Let's visualize the data using the `seaborn` module in a histogram plot of the _Likes_. This is done using the `sns.histplot()` function, passing in the `df` field _Likes_ (`df['Likes']`).\n",
    "\n",
    "Afterwards, let's create a boxplot with the _x_ axis as _Category_, and the _y_ axis as _Likes_.\n",
    "\n",
    "We'll then go ahead and perform some simple statistics on the data. First, we'll investiage the _mean_ of the _Likes_ catregory. Next, we'll use the `df.groupby()` method to print out the mean of each Category _Likes_."
   ]
  },
  {
   "cell_type": "code",
   "execution_count": 198,
   "id": "4f6e31da-cf3b-4800-a901-d40a07a311c9",
   "metadata": {},
   "outputs": [
    {
     "data": {
      "text/plain": [
       "<Axes: title={'center': 'Histogram of frequency of number of likes received for 1 million tweets'}, xlabel='Number of likes per tweet', ylabel='Frequency (number) of tweets with the given number of likes in 2023'>"
      ]
     },
     "execution_count": 198,
     "metadata": {},
     "output_type": "execute_result"
    },
    {
     "data": {
      "image/png": "[encoded data removed]",
      "text/plain": [
       "<Figure size 1200x800 with 1 Axes>"
      ]
     },
     "metadata": {},
     "output_type": "display_data"
    }
   ],
   "source": [
    "plt.figure(figsize=(12,8))\n",
    "plt.title('Histogram of frequency of number of likes received for 1 million tweets')\n",
    "plt.xlabel('Number of likes per tweet')\n",
    "plt.ylabel('Frequency (number) of tweets with the given number of likes in 2023')\n",
    "\n",
    "sns.histplot(data=df.Likes, kde=True, bins=120, color='red', alpha=0.35)"
   ]
  },
  {
   "cell_type": "markdown",
   "id": "dce45731-eee6-4db8-b102-ac81b575ae9e",
   "metadata": {},
   "source": [
    "We can clearly see above, the log-normal heavily skewed distribution (we generated the data this way), since on social media, most posts/tweets get only a handful of likes, while very few go viral. We saw before, that the most common number of likes was *84* which is proven by the histogram (the sharpest peak is around the 100 likes area)."
   ]
  },
  {
   "cell_type": "code",
   "execution_count": 184,
   "id": "5a449279-2864-4629-b6e3-990bbee8e415",
   "metadata": {},
   "outputs": [
    {
     "data": {
      "text/plain": [
       "<Axes: title={'center': 'Likes each tweet received oer category'}, xlabel='Category', ylabel='Number of likes per tweet'>"
      ]
     },
     "execution_count": 184,
     "metadata": {},
     "output_type": "execute_result"
    },
    {
     "data": {
      "image/png": "[encoded data removed]",
      "text/plain": [
       "<Figure size 700x800 with 1 Axes>"
      ]
     },
     "metadata": {},
     "output_type": "display_data"
    }
   ],
   "source": [
    "# Plot number of likes per tweet per each category:\n",
    "\n",
    "plt.figure(figsize=(7, 8))\n",
    "plt.title('Likes each tweet received oer category')\n",
    "plt.ylabel('Number of likes per tweet')\n",
    "\n",
    "sns.boxplot(x=df.Category, y=df.Likes, color='red')"
   ]
  },
  {
   "cell_type": "markdown",
   "id": "df400aa9-5caa-40ff-8d91-0f275712208f",
   "metadata": {},
   "source": [
    "We can see below in the boxplot, that the number of likes per tweet is more or less similar across all categories. The _Travel_ category has higher number of outliers that are away from the mean and the only category with a tweet of 5000 likes."
   ]
  },
  {
   "cell_type": "markdown",
   "id": "4365c47b-63cc-4800-a38f-a3d877ee25ec",
   "metadata": {},
   "source": [
    "* Highest number of likes for a tweet was **5000**, posted on 30th of April, 2023 with the _Travel_ topic.\n",
    "* Lowest number of likes for a tweet was **4**, that was tweeted on Aug. 5, 2023 from the _Fitness_ category."
   ]
  },
  {
   "cell_type": "code",
   "execution_count": 187,
   "id": "f5398287-4a16-4feb-9bdd-e075cb981783",
   "metadata": {},
   "outputs": [
    {
     "data": {
      "text/html": [
       "<div>\n",
       "<style scoped>\n",
       "    .dataframe tbody tr th:only-of-type {\n",
       "        vertical-align: middle;\n",
       "    }\n",
       "\n",
       "    .dataframe tbody tr th {\n",
       "        vertical-align: top;\n",
       "    }\n",
       "\n",
       "    .dataframe thead th {\n",
       "        text-align: right;\n",
       "    }\n",
       "</style>\n",
       "<table border=\"1\" class=\"dataframe\">\n",
       "  <thead>\n",
       "    <tr style=\"text-align: right;\">\n",
       "      <th></th>\n",
       "      <th>Date</th>\n",
       "      <th>Category</th>\n",
       "      <th>Likes</th>\n",
       "    </tr>\n",
       "  </thead>\n",
       "  <tbody>\n",
       "    <tr>\n",
       "      <th>326968</th>\n",
       "      <td>2023-04-30</td>\n",
       "      <td>Travel</td>\n",
       "      <td>5000</td>\n",
       "    </tr>\n",
       "  </tbody>\n",
       "</table>\n",
       "</div>"
      ],
      "text/plain": [
       "             Date Category  Likes\n",
       "326968 2023-04-30   Travel   5000"
      ]
     },
     "metadata": {},
     "output_type": "display_data"
    },
    {
     "data": {
      "text/html": [
       "<div>\n",
       "<style scoped>\n",
       "    .dataframe tbody tr th:only-of-type {\n",
       "        vertical-align: middle;\n",
       "    }\n",
       "\n",
       "    .dataframe tbody tr th {\n",
       "        vertical-align: top;\n",
       "    }\n",
       "\n",
       "    .dataframe thead th {\n",
       "        text-align: right;\n",
       "    }\n",
       "</style>\n",
       "<table border=\"1\" class=\"dataframe\">\n",
       "  <thead>\n",
       "    <tr style=\"text-align: right;\">\n",
       "      <th></th>\n",
       "      <th>Date</th>\n",
       "      <th>Category</th>\n",
       "      <th>Likes</th>\n",
       "    </tr>\n",
       "  </thead>\n",
       "  <tbody>\n",
       "    <tr>\n",
       "      <th>593675</th>\n",
       "      <td>2023-08-05</td>\n",
       "      <td>Fitness</td>\n",
       "      <td>4</td>\n",
       "    </tr>\n",
       "  </tbody>\n",
       "</table>\n",
       "</div>"
      ],
      "text/plain": [
       "             Date Category  Likes\n",
       "593675 2023-08-05  Fitness      4"
      ]
     },
     "metadata": {},
     "output_type": "display_data"
    }
   ],
   "source": [
    "display(df[df.Likes == max(df.Likes)])\n",
    "display(df[df.Likes == min(df.Likes)])"
   ]
  },
  {
   "cell_type": "markdown",
   "id": "9170237e-2e19-48c0-8d46-68699192eec2",
   "metadata": {},
   "source": [
    "Average number of likes per tweet is similar across all categories:"
   ]
  },
  {
   "cell_type": "code",
   "execution_count": 189,
   "id": "bf5cdd33-d9e9-4787-9f9c-9140a2a99642",
   "metadata": {},
   "outputs": [
    {
     "data": {
      "text/html": [
       "<div>\n",
       "<style scoped>\n",
       "    .dataframe tbody tr th:only-of-type {\n",
       "        vertical-align: middle;\n",
       "    }\n",
       "\n",
       "    .dataframe tbody tr th {\n",
       "        vertical-align: top;\n",
       "    }\n",
       "\n",
       "    .dataframe thead th {\n",
       "        text-align: right;\n",
       "    }\n",
       "</style>\n",
       "<table border=\"1\" class=\"dataframe\">\n",
       "  <thead>\n",
       "    <tr style=\"text-align: right;\">\n",
       "      <th></th>\n",
       "      <th>Average no. of likes/tweet</th>\n",
       "    </tr>\n",
       "    <tr>\n",
       "      <th>Category</th>\n",
       "      <th></th>\n",
       "    </tr>\n",
       "  </thead>\n",
       "  <tbody>\n",
       "    <tr>\n",
       "      <th>Food</th>\n",
       "      <td>189</td>\n",
       "    </tr>\n",
       "    <tr>\n",
       "      <th>Family</th>\n",
       "      <td>188</td>\n",
       "    </tr>\n",
       "    <tr>\n",
       "      <th>Fashion</th>\n",
       "      <td>188</td>\n",
       "    </tr>\n",
       "    <tr>\n",
       "      <th>Fitness</th>\n",
       "      <td>188</td>\n",
       "    </tr>\n",
       "    <tr>\n",
       "      <th>Health</th>\n",
       "      <td>188</td>\n",
       "    </tr>\n",
       "    <tr>\n",
       "      <th>Culture</th>\n",
       "      <td>187</td>\n",
       "    </tr>\n",
       "    <tr>\n",
       "      <th>Music</th>\n",
       "      <td>187</td>\n",
       "    </tr>\n",
       "    <tr>\n",
       "      <th>Travel</th>\n",
       "      <td>187</td>\n",
       "    </tr>\n",
       "  </tbody>\n",
       "</table>\n",
       "</div>"
      ],
      "text/plain": [
       "          Average no. of likes/tweet\n",
       "Category                            \n",
       "Food                             189\n",
       "Family                           188\n",
       "Fashion                          188\n",
       "Fitness                          188\n",
       "Health                           188\n",
       "Culture                          187\n",
       "Music                            187\n",
       "Travel                           187"
      ]
     },
     "execution_count": 189,
     "metadata": {},
     "output_type": "execute_result"
    }
   ],
   "source": [
    "# Average number of likes received per tweet in each category:\n",
    "ave_likes_by_cat = df[['Likes','Category']].groupby('Category').mean()\n",
    "ave_likes_by_cat = ave_likes_by_cat.astype('int32').sort_values(by='Likes', ascending=False) #round the means\n",
    "ave_likes_by_cat.rename(columns={'Likes': 'Average no. of likes/tweet'}, inplace=True) #rename the column label\n",
    "\n",
    "ave_likes_by_cat"
   ]
  },
  {
   "cell_type": "markdown",
   "id": "28f6f808-22d9-4170-9f38-5a7dce873fc1",
   "metadata": {},
   "source": [
    "Number of tweets posted is also the same throughout the year (in each month):"
   ]
  },
  {
   "cell_type": "code",
   "execution_count": 190,
   "id": "836cf6bf-a000-472d-9501-077554638082",
   "metadata": {},
   "outputs": [
    {
     "data": {
      "text/html": [
       "<div>\n",
       "<style scoped>\n",
       "    .dataframe tbody tr th:only-of-type {\n",
       "        vertical-align: middle;\n",
       "    }\n",
       "\n",
       "    .dataframe tbody tr th {\n",
       "        vertical-align: top;\n",
       "    }\n",
       "\n",
       "    .dataframe thead th {\n",
       "        text-align: right;\n",
       "    }\n",
       "</style>\n",
       "<table border=\"1\" class=\"dataframe\">\n",
       "  <thead>\n",
       "    <tr style=\"text-align: right;\">\n",
       "      <th>Month</th>\n",
       "      <th>1</th>\n",
       "      <th>2</th>\n",
       "      <th>3</th>\n",
       "      <th>4</th>\n",
       "      <th>5</th>\n",
       "      <th>6</th>\n",
       "      <th>7</th>\n",
       "      <th>8</th>\n",
       "      <th>9</th>\n",
       "      <th>10</th>\n",
       "      <th>11</th>\n",
       "      <th>12</th>\n",
       "    </tr>\n",
       "  </thead>\n",
       "  <tbody>\n",
       "    <tr>\n",
       "      <th>No. of tweets/month</th>\n",
       "      <td>85165</td>\n",
       "      <td>76923</td>\n",
       "      <td>85165</td>\n",
       "      <td>82417</td>\n",
       "      <td>85165</td>\n",
       "      <td>82418</td>\n",
       "      <td>85164</td>\n",
       "      <td>85165</td>\n",
       "      <td>82418</td>\n",
       "      <td>85164</td>\n",
       "      <td>82418</td>\n",
       "      <td>82418</td>\n",
       "    </tr>\n",
       "  </tbody>\n",
       "</table>\n",
       "</div>"
      ],
      "text/plain": [
       "Month                   1      2      3      4      5      6      7      8   \\\n",
       "No. of tweets/month  85165  76923  85165  82417  85165  82418  85164  85165   \n",
       "\n",
       "Month                   9      10     11     12  \n",
       "No. of tweets/month  82418  85164  82418  82418  "
      ]
     },
     "execution_count": 190,
     "metadata": {},
     "output_type": "execute_result"
    }
   ],
   "source": [
    "# Number of tweets per month\n",
    "no_tweet_by_mont = df[['Likes']].groupby(df['Date'].dt.month).count()\n",
    "\n",
    "no_tweet_by_mont.rename(columns={'Likes': 'No. of tweets/month'}, inplace=True) #renaming the column name\n",
    "no_tweet_by_mont.rename_axis('Month', inplace=True) #renaming the name of the \"group-by\" column (Date) which is now the index\n",
    "\n",
    "no_tweet_by_mont.T"
   ]
  },
  {
   "cell_type": "markdown",
   "id": "d840cbfd-54d4-4105-a512-b1e9b6363432",
   "metadata": {},
   "source": [
    "However, there are huge discrepancies across the number of tweets for each category:"
   ]
  },
  {
   "cell_type": "code",
   "execution_count": 191,
   "id": "0d295107-a49e-4d91-bc6c-dccadfb4292a",
   "metadata": {},
   "outputs": [
    {
     "data": {
      "text/html": [
       "<div>\n",
       "<style scoped>\n",
       "    .dataframe tbody tr th:only-of-type {\n",
       "        vertical-align: middle;\n",
       "    }\n",
       "\n",
       "    .dataframe tbody tr th {\n",
       "        vertical-align: top;\n",
       "    }\n",
       "\n",
       "    .dataframe thead th {\n",
       "        text-align: right;\n",
       "    }\n",
       "</style>\n",
       "<table border=\"1\" class=\"dataframe\">\n",
       "  <thead>\n",
       "    <tr style=\"text-align: right;\">\n",
       "      <th></th>\n",
       "      <th>Category</th>\n",
       "      <th>No. of tweets/category</th>\n",
       "    </tr>\n",
       "  </thead>\n",
       "  <tbody>\n",
       "    <tr>\n",
       "      <th>0</th>\n",
       "      <td>Travel</td>\n",
       "      <td>249694</td>\n",
       "    </tr>\n",
       "    <tr>\n",
       "      <th>1</th>\n",
       "      <td>Fitness</td>\n",
       "      <td>249426</td>\n",
       "    </tr>\n",
       "    <tr>\n",
       "      <th>2</th>\n",
       "      <td>Fashion</td>\n",
       "      <td>150021</td>\n",
       "    </tr>\n",
       "    <tr>\n",
       "      <th>3</th>\n",
       "      <td>Family</td>\n",
       "      <td>100715</td>\n",
       "    </tr>\n",
       "    <tr>\n",
       "      <th>4</th>\n",
       "      <td>Music</td>\n",
       "      <td>99879</td>\n",
       "    </tr>\n",
       "    <tr>\n",
       "      <th>5</th>\n",
       "      <td>Health</td>\n",
       "      <td>75290</td>\n",
       "    </tr>\n",
       "    <tr>\n",
       "      <th>6</th>\n",
       "      <td>Food</td>\n",
       "      <td>50037</td>\n",
       "    </tr>\n",
       "    <tr>\n",
       "      <th>7</th>\n",
       "      <td>Culture</td>\n",
       "      <td>24938</td>\n",
       "    </tr>\n",
       "  </tbody>\n",
       "</table>\n",
       "</div>"
      ],
      "text/plain": [
       "  Category  No. of tweets/category\n",
       "0   Travel                  249694\n",
       "1  Fitness                  249426\n",
       "2  Fashion                  150021\n",
       "3   Family                  100715\n",
       "4    Music                   99879\n",
       "5   Health                   75290\n",
       "6     Food                   50037\n",
       "7  Culture                   24938"
      ]
     },
     "execution_count": 191,
     "metadata": {},
     "output_type": "execute_result"
    }
   ],
   "source": [
    "# Number of tweets per category\n",
    "no_tweet_by_cat = df.groupby('Category')[['Likes']].count()\n",
    "\n",
    "no_tweet_by_cat.sort_values(by='Likes', ascending=False, inplace=True)\n",
    "no_tweet_by_cat.rename(columns={'Likes': 'No. of tweets/category'}, inplace=True)\n",
    "no_tweet_by_cat.reset_index(inplace=True)\n",
    "\n",
    "no_tweet_by_cat"
   ]
  },
  {
   "cell_type": "markdown",
   "id": "c77c019f-98ee-4681-bae0-a54fb87c7236",
   "metadata": {},
   "source": [
    "We can plot this discrepancy below:"
   ]
  },
  {
   "cell_type": "code",
   "execution_count": 199,
   "id": "1285583d-f40c-4ca5-973b-9a0644ee3888",
   "metadata": {},
   "outputs": [
    {
     "name": "stdout",
     "output_type": "stream",
     "text": [
      "[<BarContainer object of 8 artists>]\n"
     ]
    },
    {
     "data": {
      "image/png": "[encoded data removed]",
      "text/plain": [
       "<Figure size 800x600 with 1 Axes>"
      ]
     },
     "metadata": {},
     "output_type": "display_data"
    }
   ],
   "source": [
    "plt.figure(figsize=(8,6))\n",
    "plt.title('Number of tweets posted in 2023 per category')\n",
    "\n",
    "ax = sns.barplot(data=no_tweet_by_cat,\n",
    "                 x='Category',\n",
    "                 y='No. of tweets/category',\n",
    "                 color='pink')\n",
    "\n",
    "# Reminder: The following line is for demonstration purposes that shows a list that contains 8 \"artists\" (in our case 8 different type of Category). Under the hood, Matplotlib creates a BarContainer object that contains all the bars (represented as 8 Rectangle objects) of the plot. This container is then added to the ax.containers list:\n",
    "print(ax.containers)\n",
    "\n",
    "# This lines adds the y-axis values on top of each bar. It uses the bar objects from the `containers` mentioned above\n",
    "ax.bar_label(ax.containers[0])\n",
    "\n",
    "plt.show()"
   ]
  },
  {
   "cell_type": "markdown",
   "id": "5020b884-a98e-42f5-b52a-a2b08ae60a0e",
   "metadata": {},
   "source": [
    "## Discussion\n",
    "\n",
    "* **Challenges:**\n",
    "    * As discussed earlier, the challenge in this particular project, is to accurately mimic the distribution of likes in the real world, hence the long-normal distribution used.\n",
    "    * Another simulated field was the distribution of categories. Despite the fact that one might _guess_ which topics are most commonly discussed on Twitter (X), it is not possible to know, unless extracting data for at least a few years using the Twitter API.\n",
    "* **Potential Improvements and Methods:**\n",
    "     * Considering that the dataset was generated and not mined from the real world, another challenge comes to mind: How do we _categorize_ a million tweets? It is obviously not at all feasible for humans to go through the whole dataset one by one and decide what the topic of the social media post is. The way to do so programatically is called the Sentiment Analysis (to understand the positivity of the tweet), as well as Labeling/Categorization. These can be achieved by the following methods:\n",
    "    * Using Machine Learning and _train_ the model to distinguish between positive and negative sentiments, and to infer the topic of the given text based on supervised learning and natural language processing.\n",
    "    * Using a Large Language Model (LLM) such as GPT via OpenAI's API to feed the data (tweets) and infer the topic (or sentiment).\n",
    " \n",
    "Each of the approaches above have their own disadvantages:\n",
    "   * Training a new model from scratch requires advanced programming and statistics skills, can be unreliable and requires human labeling and the data size for training is limited.\n",
    "   * Using an existing and well-known LLM is much more easier to set up and more reliable (trained on massive data). However, feeding millions (or thousands) of lines of text means a gigantic number of tokens. Since the service is not free and the costs are calculated per token, this can very quickly rack up costs and eat through the budgetm before the data analysis on a single dataset is through.\n",
    "\n",
    "With challenges, possible solutions to the real-world data, as well as description to the approaches used in this project, I hope that others are inspired and go on about working on ambitious projects."
   ]
  }
 ],
 "metadata": {
  "kernelspec": {
   "display_name": "Python 3 (ipykernel)",
   "language": "python",
   "name": "python3"
  },
  "language_info": {
   "codemirror_mode": {
    "name": "ipython",
    "version": 3
   },
   "file_extension": ".py",
   "mimetype": "text/x-python",
   "name": "python",
   "nbconvert_exporter": "python",
   "pygments_lexer": "ipython3",
   "version": "3.10.13"
  }
 },
 "nbformat": 4,
 "nbformat_minor": 5
}
